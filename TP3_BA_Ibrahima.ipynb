{
 "cells": [
  {
   "cell_type": "markdown",
   "metadata": {},
   "source": [
    "## TP3: Jeu de données Complets"
   ]
  },
  {
   "cell_type": "code",
   "execution_count": null,
   "metadata": {},
   "outputs": [],
   "source": [
    "# A ùettre\n",
    "\n",
    "#conda install -c conda-forge keras\n",
    "#conda install -c anaconda nltk"
   ]
  },
  {
   "cell_type": "code",
   "execution_count": 88,
   "metadata": {
    "scrolled": true
   },
   "outputs": [
    {
     "name": "stderr",
     "output_type": "stream",
     "text": [
      "[nltk_data] Downloading package stopwords to\n",
      "[nltk_data]     C:\\Users\\user\\AppData\\Roaming\\nltk_data...\n",
      "[nltk_data]   Package stopwords is already up-to-date!\n"
     ]
    }
   ],
   "source": [
    "import warnings\n",
    "warnings.filterwarnings(\"ignore\") \n",
    "\n",
    "import numpy as np\n",
    "import pandas as pd\n",
    "\n",
    "import nltk    #Natural language processing tool-kit\n",
    "nltk.download('stopwords')\n",
    "  \n",
    "from nltk.corpus import stopwords                   #Stopwords corpus\n",
    "\n",
    "from keras.datasets import imdb\n",
    "import matplotlib.pyplot as plt\n",
    "%matplotlib inline\n",
    "import seaborn as sns\n",
    "\n",
    "from sklearn.feature_extraction.text import CountVectorizer\n",
    "from sklearn.feature_extraction.text import TfidfVectorizer\n",
    "from sklearn.feature_extraction.text import TfidfTransformer\n",
    "from sklearn.neighbors import KNeighborsClassifier\n",
    "from sklearn.naive_bayes import MultinomialNB, GaussianNB\n",
    "from sklearn.linear_model import SGDClassifier\n",
    "from sklearn.metrics import accuracy_score"
   ]
  },
  {
   "cell_type": "markdown",
   "metadata": {},
   "source": [
    "### explication du jeu de données:"
   ]
  },
  {
   "cell_type": "markdown",
   "metadata": {},
   "source": [
    "Dataset of 25,000 movies reviews from IMDB, labeled by sentiment (positive/negative). Reviews have been preprocessed, and each review is encoded as a sequence of word indexes (integers). For convenience, words are indexed by overall frequency in the dataset, so that for instance the integer \"3\" encodes the 3rd most frequent word in the data. This allows for quick filtering operations such as: \"only consider the top 10,000 most common words, but eliminate the top 20 most common words\"."
   ]
  },
  {
   "cell_type": "code",
   "execution_count": 5,
   "metadata": {},
   "outputs": [],
   "source": [
    "(X_train, y_train), (X_test, y_test) = imdb.load_data()"
   ]
  },
  {
   "cell_type": "code",
   "execution_count": 6,
   "metadata": {},
   "outputs": [
    {
     "data": {
      "text/plain": [
       "array([0, 1], dtype=int64)"
      ]
     },
     "execution_count": 6,
     "metadata": {},
     "output_type": "execute_result"
    }
   ],
   "source": [
    "np.unique(y_test)\n"
   ]
  },
  {
   "cell_type": "markdown",
   "metadata": {},
   "source": [
    "### d'aprés le label on peut dire que c'est un probléme de classification avec '0' représentant les mauvais sentiments dans les commentaires et '1' étant les bons sentiments."
   ]
  },
  {
   "cell_type": "code",
   "execution_count": 7,
   "metadata": {},
   "outputs": [
    {
     "data": {
      "text/plain": [
       "(25000,)"
      ]
     },
     "execution_count": 7,
     "metadata": {},
     "output_type": "execute_result"
    }
   ],
   "source": [
    "X_train.shape"
   ]
  },
  {
   "cell_type": "code",
   "execution_count": 8,
   "metadata": {},
   "outputs": [
    {
     "data": {
      "text/plain": [
       "(25000,)"
      ]
     },
     "execution_count": 8,
     "metadata": {},
     "output_type": "execute_result"
    }
   ],
   "source": [
    "y_train.shape"
   ]
  },
  {
   "cell_type": "markdown",
   "metadata": {},
   "source": [
    "### la taille des features  est de 25000 et de même pour les labels aussi qui égal à 25000"
   ]
  },
  {
   "cell_type": "markdown",
   "metadata": {},
   "source": [
    "### Les textes ont été hashés"
   ]
  },
  {
   "cell_type": "code",
   "execution_count": 50,
   "metadata": {},
   "outputs": [
    {
     "data": {
      "text/plain": [
       "array([list([1, 14, 22, 16, 43, 530, 973, 1622, 1385, 65, 458, 4468, 66, 3941, 4, 173, 36, 256, 5, 25, 100, 43, 838, 112, 50, 670, 22665, 9, 35, 480, 284, 5, 150, 4, 172, 112, 167, 21631, 336, 385, 39, 4, 172, 4536, 1111, 17, 546, 38, 13, 447, 4, 192, 50, 16, 6, 147, 2025, 19, 14, 22, 4, 1920, 4613, 469, 4, 22, 71, 87, 12, 16, 43, 530, 38, 76, 15, 13, 1247, 4, 22, 17, 515, 17, 12, 16, 626, 18, 19193, 5, 62, 386, 12, 8, 316, 8, 106, 5, 4, 2223, 5244, 16, 480, 66, 3785, 33, 4, 130, 12, 16, 38, 619, 5, 25, 124, 51, 36, 135, 48, 25, 1415, 33, 6, 22, 12, 215, 28, 77, 52, 5, 14, 407, 16, 82, 10311, 8, 4, 107, 117, 5952, 15, 256, 4, 31050, 7, 3766, 5, 723, 36, 71, 43, 530, 476, 26, 400, 317, 46, 7, 4, 12118, 1029, 13, 104, 88, 4, 381, 15, 297, 98, 32, 2071, 56, 26, 141, 6, 194, 7486, 18, 4, 226, 22, 21, 134, 476, 26, 480, 5, 144, 30, 5535, 18, 51, 36, 28, 224, 92, 25, 104, 4, 226, 65, 16, 38, 1334, 88, 12, 16, 283, 5, 16, 4472, 113, 103, 32, 15, 16, 5345, 19, 178, 32]),\n",
       "       list([1, 194, 1153, 194, 8255, 78, 228, 5, 6, 1463, 4369, 5012, 134, 26, 4, 715, 8, 118, 1634, 14, 394, 20, 13, 119, 954, 189, 102, 5, 207, 110, 3103, 21, 14, 69, 188, 8, 30, 23, 7, 4, 249, 126, 93, 4, 114, 9, 2300, 1523, 5, 647, 4, 116, 9, 35, 8163, 4, 229, 9, 340, 1322, 4, 118, 9, 4, 130, 4901, 19, 4, 1002, 5, 89, 29, 952, 46, 37, 4, 455, 9, 45, 43, 38, 1543, 1905, 398, 4, 1649, 26, 6853, 5, 163, 11, 3215, 10156, 4, 1153, 9, 194, 775, 7, 8255, 11596, 349, 2637, 148, 605, 15358, 8003, 15, 123, 125, 68, 23141, 6853, 15, 349, 165, 4362, 98, 5, 4, 228, 9, 43, 36893, 1157, 15, 299, 120, 5, 120, 174, 11, 220, 175, 136, 50, 9, 4373, 228, 8255, 5, 25249, 656, 245, 2350, 5, 4, 9837, 131, 152, 491, 18, 46151, 32, 7464, 1212, 14, 9, 6, 371, 78, 22, 625, 64, 1382, 9, 8, 168, 145, 23, 4, 1690, 15, 16, 4, 1355, 5, 28, 6, 52, 154, 462, 33, 89, 78, 285, 16, 145, 95])],\n",
       "      dtype=object)"
      ]
     },
     "execution_count": 50,
     "metadata": {},
     "output_type": "execute_result"
    }
   ],
   "source": [
    "X_train[0:2]"
   ]
  },
  {
   "cell_type": "markdown",
   "metadata": {},
   "source": [
    "### On essaie de reconstruire le 6-ième texte"
   ]
  },
  {
   "cell_type": "code",
   "execution_count": 18,
   "metadata": {},
   "outputs": [],
   "source": [
    "def getKeysByValue(dictOfElements, valueToFind):\n",
    "    listOfKeys = list()\n",
    "    listOfItems = dictOfElements.items()\n",
    "    for item  in listOfItems:\n",
    "        if item[1] == valueToFind:\n",
    "            listOfKeys.append(item[0])\n",
    "    print(listOfKeys)"
   ]
  },
  {
   "cell_type": "markdown",
   "metadata": {},
   "source": [
    "### on voit que chaque nombre entier représente  un mot spécifique dans un dictionnaire voici a quoi ressemble le premier commentaire"
   ]
  },
  {
   "cell_type": "code",
   "execution_count": 100,
   "metadata": {},
   "outputs": [
    {
     "name": "stdout",
     "output_type": "stream",
     "text": [
      "[1, None, None, 16, 43, 2, 2, 2, 2, 65, 458, 2, 66, 2, None, 173, None, 256, 5, 25, 100, 43, None, 112, 50, 2, 2, 9, 35, 480, 284, 5, 150, 4, 172, 112, 167, 2, 336, 385, 39, 4, 172, None, 2, 17, 2, 38, 13, 447, 4, 192, 50, 16, 6, 147, 2, 19, 14, 22, 4, 2, 2, 469, 4, None, 71, 87, 12, 16, 43, 2, 38, 76, 15, 13, 2, 4, 22, 17, 2, 17, 12, 16, 2, 18, 2, 5, 62, 386, 12, 8, 316, 8, 106, 5, 4, 2, 2, 16, 480, 66, 2, 33, 4, 130, 12, 16, 38, 2, 5, 25, 124, 51, 36, 135, 48, 25, 2, 33, 6, 22, 12, 215, 28, 77, 52, 5, 14, 407, 16, 82, 2, 8, 4, 107, 117, 2, 15, 256, 4, 2, 7, 2, 5, 2, 36, 71, 43, 2, 476, 26, 400, 317, 46, 7, 4, 2, 2, 13, 104, 88, 4, 381, 15, 297, 98, 32, 2, 56, 26, 141, 6, 194, 2, 18, 4, 226, 22, 21, 134, 476, 26, 480, 5, 144, 30, 2, 18, 51, 36, 28, 224, 92, 25, 104, 4, 226, 65, 16, 38, 2, 88, 12, 16, 283, 5, 16, 2, 113, 103, 32, 15, 16, 2, 19, 178, 32]\n"
     ]
    }
   ],
   "source": [
    "print(X_train[0])"
   ]
  },
  {
   "cell_type": "markdown",
   "metadata": {},
   "source": [
    "### Les critiques des films peuvent être aussi de longueur differentes. Par exemple les premiers et deuxième commentaire on a 218 mots contre 189."
   ]
  },
  {
   "cell_type": "code",
   "execution_count": 53,
   "metadata": {},
   "outputs": [
    {
     "data": {
      "text/plain": [
       "(218, 189)"
      ]
     },
     "execution_count": 53,
     "metadata": {},
     "output_type": "execute_result"
    }
   ],
   "source": [
    "len(X_train[0]),len(X_train[1])"
   ]
  },
  {
   "cell_type": "markdown",
   "metadata": {},
   "source": [
    "### Le code suivant permet d'afficher les entiers en texte. Par exemple on affiche tous les mots qui composent le 6éme commentaire."
   ]
  },
  {
   "cell_type": "code",
   "execution_count": 42,
   "metadata": {},
   "outputs": [],
   "source": [
    "def getKeysByValue(dictOfElements, valueToFind):\n",
    "    listOfKeys = list()\n",
    "    listOfItems = dictOfElements.items()\n",
    "    for item  in listOfItems:\n",
    "        if item[1] == valueToFind:\n",
    "            listOfKeys.append(item[0])\n",
    "    print(listOfKeys)"
   ]
  },
  {
   "cell_type": "code",
   "execution_count": 44,
   "metadata": {},
   "outputs": [
    {
     "name": "stdout",
     "output_type": "stream",
     "text": [
      "['the']\n",
      "['the']\n",
      "['and']\n",
      "['and']\n",
      "['still']\n",
      "['still']\n",
      "['been']\n",
      "['been']\n",
      "['that']\n",
      "['that']\n",
      "['and']\n",
      "['and']\n",
      "['makes']\n",
      "['makes']\n",
      "['for']\n",
      "['for']\n",
      "['of']\n",
      "['of']\n",
      "['and']\n",
      "['and']\n",
      "['and']\n",
      "['and']\n",
      "['and']\n",
      "['and']\n",
      "['and']\n",
      "['and']\n",
      "['an']\n",
      "['an']\n",
      "['because']\n",
      "['because']\n",
      "['before']\n",
      "['before']\n",
      "['if']\n",
      "['if']\n",
      "['just']\n",
      "['just']\n",
      "['though']\n",
      "['though']\n",
      "['something']\n",
      "['something']\n",
      "['know']\n",
      "['know']\n",
      "['and']\n",
      "['and']\n",
      "['and']\n",
      "['and']\n",
      "['i']\n",
      "['i']\n",
      "['i']\n",
      "['i']\n",
      "['and']\n",
      "['and']\n",
      "['lot']\n",
      "['lot']\n",
      "['of']\n",
      "['of']\n",
      "['and']\n",
      "['and']\n",
      "['and']\n",
      "['and']\n",
      "['with']\n",
      "['with']\n",
      "['and']\n",
      "['and']\n",
      "['in']\n",
      "['in']\n",
      "['of']\n",
      "['of']\n",
      "['script']\n",
      "['script']\n",
      "['their']\n",
      "['their']\n",
      "['that']\n",
      "['that']\n",
      "['out']\n",
      "['out']\n",
      "['end']\n",
      "['end']\n",
      "['his']\n",
      "['his']\n",
      "['and']\n",
      "['and']\n",
      "['i']\n",
      "['i']\n",
      "['i']\n",
      "['i']\n"
     ]
    }
   ],
   "source": [
    "for word_num in X_train[5]:\n",
    "    getKeysByValue(imdb.get_word_index(),word_num)\n",
    "    w.append(getKeysByValue(imdb.get_word_index(),word_num))"
   ]
  },
  {
   "cell_type": "code",
   "execution_count": 46,
   "metadata": {},
   "outputs": [],
   "source": [
    "x=pd.DataFrame(X_train,columns=['sentence'])\n",
    "y=pd.DataFrame(y_train,columns=['label'])\n"
   ]
  },
  {
   "cell_type": "code",
   "execution_count": 41,
   "metadata": {},
   "outputs": [],
   "source": [
    "y=pd.DataFrame(y_train,columns=['label'])"
   ]
  },
  {
   "cell_type": "markdown",
   "metadata": {},
   "source": [
    "### nombre de mot unique dans le training set"
   ]
  },
  {
   "cell_type": "code",
   "execution_count": 67,
   "metadata": {},
   "outputs": [
    {
     "name": "stdout",
     "output_type": "stream",
     "text": [
      "nombre de mots unique dans X_train: \n",
      "88585\n"
     ]
    }
   ],
   "source": [
    "print(\"nombre de mots unique dans X_train: \")\n",
    "print(len(np.unique(np.hstack(X_train))))"
   ]
  },
  {
   "cell_type": "markdown",
   "metadata": {},
   "source": [
    "### On a 88585 mots unique dans le training set ce qui est énorme."
   ]
  },
  {
   "cell_type": "markdown",
   "metadata": {},
   "source": [
    "### visualisation des 10 premiers critiques et les 10 premiers sentiments"
   ]
  },
  {
   "cell_type": "code",
   "execution_count": 135,
   "metadata": {},
   "outputs": [
    {
     "name": "stdout",
     "output_type": "stream",
     "text": [
      "0    [1, None, None, 16, 43, 2, 2, 2, 2, 65, 458, 2...\n",
      "1    [1, 194, 2, 194, 2, 78, 228, 5, 6, 2, 2, 2, 13...\n",
      "2    [1, 14, 47, 8, 30, 31, 7, 4, 249, 108, 7, 4, 2...\n",
      "3    [1, 4, 2, 2, 33, 2, 4, 2, 432, 111, 153, 103, ...\n",
      "4    [1, 249, 2, 7, 61, 113, 10, 10, 13, 2, 14, 20,...\n",
      "5    [1, 2, 128, 74, 12, 2, 163, 15, 4, 2, 2, 2, 2,...\n",
      "6    [1, 2, 365, 2, 5, 2, 354, 11, 14, 2, 2, 7, 2, ...\n",
      "7    [1, 4, 2, 2, 4, 65, 7, 4, 2, 2, 2, 2, 2, 2, 2,...\n",
      "8    [1, 43, 188, 46, 5, 2, 264, 51, 6, 2, 2, 14, 9...\n",
      "9    [1, 14, 20, 47, 111, 439, 2, 19, 12, 15, 166, ...\n",
      "Name: sentence, dtype: object\n",
      "0    1\n",
      "1    0\n",
      "2    0\n",
      "3    1\n",
      "4    0\n",
      "Name: label, dtype: int64\n"
     ]
    }
   ],
   "source": [
    "y_sub=y['label'][0:10]\n",
    "x_sub=x['sentence'][0:10]\n",
    "print(x_sub)\n",
    "print(y_sub)\n"
   ]
  },
  {
   "cell_type": "markdown",
   "metadata": {},
   "source": [
    "### On essaie de reconstruire le 6-ième texte"
   ]
  },
  {
   "cell_type": "markdown",
   "metadata": {},
   "source": [
    "### on va essayer d'ecrire une fonction qui permet de convertir les entiers qui sont dans x_sub en mot et aprés on va pouvoir utiliser 'bag of words ' avec l'utisation de la méthode Countvectorizer()."
   ]
  },
  {
   "cell_type": "markdown",
   "metadata": {},
   "source": [
    "Exemples d'affichages:"
   ]
  },
  {
   "cell_type": "code",
   "execution_count": 60,
   "metadata": {},
   "outputs": [
    {
     "name": "stdout",
     "output_type": "stream",
     "text": [
      "1\n",
      "['the']\n"
     ]
    }
   ],
   "source": [
    "print(x_sub[0][0])\n",
    "getKeysByValue(imdb.get_word_index(),x_sub[0][0])"
   ]
  },
  {
   "cell_type": "code",
   "execution_count": 61,
   "metadata": {},
   "outputs": [
    {
     "name": "stdout",
     "output_type": "stream",
     "text": [
      "194\n",
      "['thought']\n"
     ]
    }
   ],
   "source": [
    "print(x_sub[1][1])\n",
    "getKeysByValue(imdb.get_word_index(),x_sub[1][1])"
   ]
  },
  {
   "cell_type": "code",
   "execution_count": 62,
   "metadata": {},
   "outputs": [
    {
     "name": "stdout",
     "output_type": "stream",
     "text": [
      "2\n",
      "['and']\n"
     ]
    }
   ],
   "source": [
    "print(x_sub[4][2])\n",
    "getKeysByValue(imdb.get_word_index(),x_sub[4][2])"
   ]
  },
  {
   "cell_type": "code",
   "execution_count": 111,
   "metadata": {},
   "outputs": [],
   "source": [
    "\n",
    "word=[]"
   ]
  },
  {
   "cell_type": "code",
   "execution_count": 112,
   "metadata": {},
   "outputs": [],
   "source": [
    "word_index = imdb.get_word_index()\n",
    "index_word = {v:k for k,v in word_index.items()}"
   ]
  },
  {
   "cell_type": "code",
   "execution_count": 113,
   "metadata": {},
   "outputs": [
    {
     "data": {
      "text/plain": [
       "[\"the thought and thought and do making to is and and and while he of and in where and as getting on was did and fact characters to always life and not as me can't in at are br of sure your way of little it and and to and of love it so and of guy it used and of where it of here and film of and to don't all and some like of direction it if out her and and keep of and he and to makes this and and of and it thought and br and and budget and though and and and for ever better were and and for budget look and any to of making it out and and for effects show to show cast this family us scenes more it and making and to and and tv and to of and these thing wants but and an and and as it is video do you and see and it in few those are of and for with of and to one is very work dark they don't do dvd with those them\",\n",
       " \"the as there in at by br of sure many br of and no only women was than doesn't as you never of and night that with and they bad out and plays of how star so and film comes and and of and they don't do that had with of hollywood br of my seeing fan this of and out and and in having because and it's and and first were and for from look and sense from me and and in character as and and but is you that isn't one and just is him less are and not are you that different just even by this of you there is and when it part are and love and and was big also and don't and as it in character and and so and is far br man acting\",\n",
       " \"the of and and they and of and went plot actors watch of and was well these can this only and and so and and only and killer and of and br and would find of films saw and about and it for br so and and by in of and are of and and is and it's her or know would care i i br screen that and plot actors new would with and not have and lead or of too would and that of every their it and this and of and to and br and movie was and that film is under by left this and is and and this in own be house of and and in and my i i and and things just as lost lot br comes never like thing start of and comes and and want no bad than history from lost comes and young to movie bad and and from reason these and movie and it's movie so and and enough to and and film and almost and and and and and to and i i only human it and just only and to be and new made comes and and high in want to other and of their for and those i'm and that and and and and and for and of and and br and make and and and this and of and br and worst and it and this and as it when lines that make excellent and that there is and and to and and film good br of and and and have into your and i i and and and be and this and and new be home all and film and lot br made and in at this of and how and in and some this and not all it and are of and and and is and and and i i worst more it is and and and made all and in does of and of and side be and and and know end and here to all tries in does of and side of home br be and i i all it and in could is performance and and in of and br by br and its and and well of and at and it's it that an this and i i this as their has and bad and and and and and of and br work to of and up and and br and and this early her bad having and film and movie all care of their br be right acting i i and of and and it away of its and and to and version you br and your way just and was can't and and film of and br and and are up and not other just and was and as true was least of and certainly and and of and and and br and to make just have 2 which and of and and and br of and say in can is you for it wasn't in and as by it away and what have reason and are that and that's have 2 which and and of and br and to of and work and br and more he good and for and at and not see and\",\n",
       " \"the sure and br only acting i i was and as on she they and but already most was and and if and was well also good and and was with enjoy used enjoy and too i'm of you an job br only women than and to was with these and sure little sure guy sure on was one your life was children in and only yes she sort is and but so and them final and to have does such most that supposed and very and and only yes this was and for and on this of and to plays that and to for supposed still been last fan always your bit that and said and and br and to and and out in also show for and was and have and but look part i'm film as to and is script hard br only acting\",\n",
       " 'the and still been that and makes for of and and and and an because before if just though something know and and i i and lot of and and with and in of script their that out end his and i i']"
      ]
     },
     "execution_count": 113,
     "metadata": {},
     "output_type": "execute_result"
    }
   ],
   "source": [
    "v=[1,2,3,4,5]\n",
    "for i in v:\n",
    "    word.append(' '.join(index_word.get(w) for w in X_train[i]))\n",
    "word"
   ]
  },
  {
   "cell_type": "code",
   "execution_count": 121,
   "metadata": {},
   "outputs": [
    {
     "data": {
      "text/html": [
       "<div>\n",
       "<style scoped>\n",
       "    .dataframe tbody tr th:only-of-type {\n",
       "        vertical-align: middle;\n",
       "    }\n",
       "\n",
       "    .dataframe tbody tr th {\n",
       "        vertical-align: top;\n",
       "    }\n",
       "\n",
       "    .dataframe thead th {\n",
       "        text-align: right;\n",
       "    }\n",
       "</style>\n",
       "<table border=\"1\" class=\"dataframe\">\n",
       "  <thead>\n",
       "    <tr style=\"text-align: right;\">\n",
       "      <th></th>\n",
       "      <th>sentence</th>\n",
       "    </tr>\n",
       "  </thead>\n",
       "  <tbody>\n",
       "    <tr>\n",
       "      <th>0</th>\n",
       "      <td>the thought and thought and do making to is an...</td>\n",
       "    </tr>\n",
       "    <tr>\n",
       "      <th>1</th>\n",
       "      <td>the as there in at by br of sure many br of an...</td>\n",
       "    </tr>\n",
       "    <tr>\n",
       "      <th>2</th>\n",
       "      <td>the of and and they and of and went plot actor...</td>\n",
       "    </tr>\n",
       "    <tr>\n",
       "      <th>3</th>\n",
       "      <td>the sure and br only acting i i was and as on ...</td>\n",
       "    </tr>\n",
       "    <tr>\n",
       "      <th>4</th>\n",
       "      <td>the and still been that and makes for of and a...</td>\n",
       "    </tr>\n",
       "  </tbody>\n",
       "</table>\n",
       "</div>"
      ],
      "text/plain": [
       "                                            sentence\n",
       "0  the thought and thought and do making to is an...\n",
       "1  the as there in at by br of sure many br of an...\n",
       "2  the of and and they and of and went plot actor...\n",
       "3  the sure and br only acting i i was and as on ...\n",
       "4  the and still been that and makes for of and a..."
      ]
     },
     "execution_count": 121,
     "metadata": {},
     "output_type": "execute_result"
    }
   ],
   "source": [
    "\n",
    "X=pd.DataFrame(word,columns=['sentence'])\n",
    "X"
   ]
  },
  {
   "cell_type": "markdown",
   "metadata": {},
   "source": [
    "### On crée un dictionnaire, puis on compte le nombre d'apparition des mots du dictionnaire dans chaque texte (critique)"
   ]
  },
  {
   "cell_type": "code",
   "execution_count": 122,
   "metadata": {},
   "outputs": [
    {
     "data": {
      "text/plain": [
       "0    the thought and thought and do making to is an...\n",
       "1    the as there in at by br of sure many br of an...\n",
       "2    the of and and they and of and went plot actor...\n",
       "3    the sure and br only acting i i was and as on ...\n",
       "Name: sentence, dtype: object"
      ]
     },
     "execution_count": 122,
     "metadata": {},
     "output_type": "execute_result"
    }
   ],
   "source": [
    "X_sub = X['sentence'][0:4]\n",
    "X_sub"
   ]
  },
  {
   "cell_type": "code",
   "execution_count": 123,
   "metadata": {
    "scrolled": true
   },
   "outputs": [
    {
     "name": "stdout",
     "output_type": "stream",
     "text": [
      "['about', 'acting', 'actors', 'all', 'almost', 'already', 'also', 'always', 'an', 'and', 'any', 'are', 'as', 'at', 'away', 'bad', 'be', 'because', 'been', 'better', 'big', 'bit', 'br', 'budget', 'but', 'by', 'can', 'care', 'cast', 'certainly', 'character', 'characters', 'children', 'comes', 'could', 'dark', 'did', 'different', 'direction', 'do', 'does', 'doesn', 'don', 'dvd', 'early', 'effects', 'end', 'enjoy', 'enough', 'even', 'ever', 'every', 'excellent', 'fact', 'family', 'fan', 'far', 'few', 'film', 'films', 'final', 'find', 'first', 'for', 'from', 'getting', 'good', 'guy', 'had', 'hard', 'has', 'have', 'having', 'he', 'her', 'here', 'high', 'him', 'history', 'hollywood', 'home', 'house', 'how', 'human', 'if', 'in', 'into', 'is', 'isn', 'it', 'its', 'job', 'just', 'keep', 'killer', 'know', 'last', 'lead', 'least', 'left', 'less', 'life', 'like', 'lines', 'little', 'look', 'lost', 'lot', 'love', 'made', 'make', 'makes', 'making', 'man', 'many', 'me', 'more', 'most', 'movie', 'my', 'never', 'new', 'night', 'no', 'not', 'of', 'on', 'one', 'only', 'or', 'other', 'out', 'own', 'part', 'performance', 'plays', 'plot', 'reason', 'right', 'said', 'saw', 'say', 'scenes', 'screen', 'script', 'see', 'seeing', 'sense', 'she', 'show', 'side', 'so', 'some', 'sort', 'star', 'start', 'still', 'such', 'supposed', 'sure', 'than', 'that', 'the', 'their', 'them', 'there', 'these', 'they', 'thing', 'things', 'this', 'those', 'though', 'thought', 'to', 'too', 'tries', 'true', 'tv', 'under', 'up', 'us', 'used', 'version', 'very', 'video', 'want', 'wants', 'was', 'wasn', 'watch', 'way', 'well', 'went', 'were', 'what', 'when', 'where', 'which', 'while', 'with', 'women', 'work', 'worst', 'would', 'yes', 'you', 'young', 'your']\n"
     ]
    }
   ],
   "source": [
    "count_vect = CountVectorizer()\n",
    "X_sub_counts = count_vect.fit_transform(X_sub)\n",
    "dictionary_sub   = count_vect.get_feature_names()\n",
    "print(dictionary_sub)"
   ]
  },
  {
   "cell_type": "markdown",
   "metadata": {},
   "source": [
    "### On regarde les dimensions de X_sub"
   ]
  },
  {
   "cell_type": "code",
   "execution_count": 124,
   "metadata": {},
   "outputs": [
    {
     "name": "stdout",
     "output_type": "stream",
     "text": [
      "(4, 209)\n",
      "  (0, 164)\t1\n",
      "  (0, 43)\t1\n",
      "  (0, 167)\t1\n",
      "  (0, 35)\t1\n",
      "  (0, 202)\t1\n",
      "  (0, 184)\t1\n",
      "  (0, 127)\t1\n",
      "  (0, 200)\t2\n",
      "  (0, 171)\t2\n",
      "  (0, 57)\t1\n",
      "  (0, 145)\t1\n",
      "  (0, 206)\t1\n",
      "  (0, 185)\t1\n",
      "  (0, 8)\t1\n",
      "  (0, 24)\t1\n",
      "  (0, 187)\t1\n",
      "  (0, 168)\t1\n",
      "  (0, 166)\t1\n",
      "  (0, 178)\t1\n",
      "  (0, 116)\t1\n",
      "  (0, 142)\t1\n",
      "  (0, 181)\t1\n",
      "  (0, 54)\t1\n",
      "  (0, 28)\t1\n",
      "  (0, 149)\t2\n",
      "  :\t:\n",
      "  (0, 13)\t1\n",
      "  (0, 26)\t1\n",
      "  (0, 115)\t1\n",
      "  (0, 124)\t1\n",
      "  (0, 101)\t1\n",
      "  (0, 7)\t1\n",
      "  (0, 31)\t1\n",
      "  (0, 53)\t1\n",
      "  (0, 36)\t1\n",
      "  (0, 188)\t1\n",
      "  (0, 126)\t1\n",
      "  (0, 65)\t1\n",
      "  (0, 12)\t3\n",
      "  (0, 197)\t2\n",
      "  (0, 85)\t3\n",
      "  (0, 125)\t15\n",
      "  (0, 73)\t2\n",
      "  (0, 199)\t1\n",
      "  (0, 87)\t3\n",
      "  (0, 174)\t10\n",
      "  (0, 112)\t3\n",
      "  (0, 39)\t3\n",
      "  (0, 9)\t49\n",
      "  (0, 173)\t3\n",
      "  (0, 162)\t1\n",
      "<class 'scipy.sparse.csr.csr_matrix'>\n"
     ]
    }
   ],
   "source": [
    "print(X_sub_counts.shape) \n",
    "print(X_sub_counts[0])\n",
    "print(type(X_sub_counts))"
   ]
  },
  {
   "cell_type": "code",
   "execution_count": 125,
   "metadata": {},
   "outputs": [
    {
     "name": "stdout",
     "output_type": "stream",
     "text": [
      "[ 0  0  0  1  0  0  0  1  1 49  1  2  3  1  0  0  0  0  0  1  0  0  2  2\n",
      "  1  0  1  0  1  0  0  1  0  0  0  1  1  0  1  3  0  0  2  1  0  1  0  0\n",
      "  0  0  1  0  0  1  1  0  0  1  1  0  0  0  0  4  0  1  0  1  0  0  0  0\n",
      "  0  2  1  1  0  0  0  0  0  0  0  0  1  3  0  3  0 10  0  0  0  1  0  0\n",
      "  0  0  0  0  0  1  1  0  1  1  0  0  1  0  0  1  3  0  0  1  1  0  0  0\n",
      "  0  0  0  0  1 15  1  1  0  0  0  2  0  0  0  0  0  0  0  0  0  0  1  0\n",
      "  0  1  0  0  0  2  0  1  1  0  0  0  0  0  0  1  0  0  1  0  1  0  1  1\n",
      "  1  0  2  2  1  3 10  0  0  0  1  0  0  1  1  0  1  1  0  1  1  0  0  1\n",
      "  0  0  1  0  0  2  0  1  2  0  1  0  0  0  1  0  1]\n"
     ]
    }
   ],
   "source": [
    "print(X_sub_counts.toarray()[0,:])"
   ]
  },
  {
   "cell_type": "code",
   "execution_count": 126,
   "metadata": {},
   "outputs": [],
   "source": [
    "word_counts = pd.DataFrame(X_sub_counts.toarray(),columns = dictionary_sub)\n",
    "word_total_counts = pd.DataFrame()\n",
    "word_total_counts['count'] = word_counts.sum(axis=0)\n",
    "word_total_counts['word'] = dictionary_sub"
   ]
  },
  {
   "cell_type": "code",
   "execution_count": 127,
   "metadata": {},
   "outputs": [],
   "source": [
    "word_total_counts_sorted_top  = word_total_counts.sort_values(by=\"count\",ascending = False).iloc[0:20]"
   ]
  },
  {
   "cell_type": "code",
   "execution_count": 128,
   "metadata": {},
   "outputs": [
    {
     "data": {
      "image/png": "[encoded data removed]",
      "text/plain": [
       "<Figure size 1080x576 with 1 Axes>"
      ]
     },
     "metadata": {
      "needs_background": "light"
     },
     "output_type": "display_data"
    }
   ],
   "source": [
    "plt.figure(figsize=(15,8))\n",
    "sns.barplot(x = word_total_counts_sorted_top.index,y=word_total_counts_sorted_top['count'])\n",
    "plt.xticks(rotation=90,fontsize=10)\n",
    "plt.show()"
   ]
  },
  {
   "cell_type": "markdown",
   "metadata": {},
   "source": [
    "### le diagramme en barre ci-dessus nous donnes les mots les plus présents dans les 5 textes critiques"
   ]
  },
  {
   "cell_type": "markdown",
   "metadata": {},
   "source": [
    "### on va essayer de definir une fonction qui prend en encapsule ce qui précede "
   ]
  },
  {
   "cell_type": "code",
   "execution_count": 129,
   "metadata": {},
   "outputs": [],
   "source": [
    "def most_frequent_words(count_vect,data):    \n",
    "    data_counts = count_vect.fit_transform(data)\n",
    "    dictionary   = count_vect.get_feature_names()\n",
    "    print(\"Taille du dictionnaire : \",len(dictionary))\n",
    "    word_counts = pd.DataFrame(data_counts.toarray(),columns = dictionary)\n",
    "    word_total_counts = pd.DataFrame()\n",
    "    word_total_counts['count'] = word_counts.sum(axis=0)\n",
    "    word_total_counts['word'] = dictionary\n",
    "    word_total_counts_sorted_top  = word_total_counts.sort_values(by=\"count\",ascending = False).iloc[0:20]\n",
    "    plt.figure(figsize=(15,8))\n",
    "    sns.barplot(x = word_total_counts_sorted_top.index,y=word_total_counts_sorted_top['count'])\n",
    "    plt.xticks(rotation=90,fontsize=10)\n",
    "    plt.show()\n",
    "    return {'data_counts' : data_counts, 'word_total_counts' :word_total_counts, 'dictionary' : dictionary}"
   ]
  },
  {
   "cell_type": "code",
   "execution_count": 130,
   "metadata": {},
   "outputs": [],
   "source": [
    "count_vect = CountVectorizer()\n",
    "X_sub_counts = count_vect.fit_transform(X_sub)"
   ]
  },
  {
   "cell_type": "code",
   "execution_count": 131,
   "metadata": {},
   "outputs": [
    {
     "name": "stdout",
     "output_type": "stream",
     "text": [
      "Taille du dictionnaire :  209\n"
     ]
    },
    {
     "data": {
      "image/png": "[encoded data removed]",
      "text/plain": [
       "<Figure size 1080x576 with 1 Axes>"
      ]
     },
     "metadata": {
      "needs_background": "light"
     },
     "output_type": "display_data"
    }
   ],
   "source": [
    "most_frequent_words_sub = most_frequent_words(count_vect,X_sub)"
   ]
  },
  {
   "cell_type": "markdown",
   "metadata": {},
   "source": [
    "### la fonction most_frequent_words nous donne le mot le plus féquents dans les 5 premiers commentaires on voit que c'est le mot \"and\"."
   ]
  },
  {
   "cell_type": "code",
   "execution_count": null,
   "metadata": {},
   "outputs": [],
   "source": []
  },
  {
   "cell_type": "code",
   "execution_count": 143,
   "metadata": {},
   "outputs": [
    {
     "data": {
      "text/html": [
       "<div>\n",
       "<style scoped>\n",
       "    .dataframe tbody tr th:only-of-type {\n",
       "        vertical-align: middle;\n",
       "    }\n",
       "\n",
       "    .dataframe tbody tr th {\n",
       "        vertical-align: top;\n",
       "    }\n",
       "\n",
       "    .dataframe thead th {\n",
       "        text-align: right;\n",
       "    }\n",
       "</style>\n",
       "<table border=\"1\" class=\"dataframe\">\n",
       "  <thead>\n",
       "    <tr style=\"text-align: right;\">\n",
       "      <th></th>\n",
       "      <th>label</th>\n",
       "    </tr>\n",
       "  </thead>\n",
       "  <tbody>\n",
       "    <tr>\n",
       "      <th>0</th>\n",
       "      <td>1</td>\n",
       "    </tr>\n",
       "    <tr>\n",
       "      <th>1</th>\n",
       "      <td>0</td>\n",
       "    </tr>\n",
       "    <tr>\n",
       "      <th>2</th>\n",
       "      <td>0</td>\n",
       "    </tr>\n",
       "    <tr>\n",
       "      <th>3</th>\n",
       "      <td>1</td>\n",
       "    </tr>\n",
       "    <tr>\n",
       "      <th>4</th>\n",
       "      <td>0</td>\n",
       "    </tr>\n",
       "  </tbody>\n",
       "</table>\n",
       "</div>"
      ],
      "text/plain": [
       "   label\n",
       "0      1\n",
       "1      0\n",
       "2      0\n",
       "3      1\n",
       "4      0"
      ]
     },
     "execution_count": 143,
     "metadata": {},
     "output_type": "execute_result"
    }
   ],
   "source": [
    "y1=pd.DataFrame(y_train,columns=['label'])[0:5]\n",
    "y1"
   ]
  },
  {
   "cell_type": "markdown",
   "metadata": {},
   "source": [
    "### utilisation de stopwords sur nos données"
   ]
  },
  {
   "cell_type": "code",
   "execution_count": 136,
   "metadata": {},
   "outputs": [
    {
     "name": "stdout",
     "output_type": "stream",
     "text": [
      "{'you', 'were', 'down', 'yours', 'be', 'been', \"hadn't\", 'the', 'couldn', 'hadn', 'did', \"wasn't\", 'needn', 'out', 'once', 'from', \"isn't\", 'wasn', 'wouldn', 'll', 'does', 'but', 'until', 'themselves', 'what', 'no', \"you're\", 'by', 'here', 'where', 'over', 'after', \"you'll\", \"weren't\", 'will', \"mightn't\", 'while', 're', 'at', 'against', \"shan't\", \"needn't\", 'is', 'your', 'off', 'during', 'should', 'and', 'as', 'aren', 'how', 'don', 'mightn', \"it's\", 'an', 'doing', 'own', 'i', 'than', 'when', 'doesn', \"mustn't\", 'only', 'whom', \"haven't\", \"should've\", 'yourselves', 'itself', 'd', 'himself', \"that'll\", 'up', 'has', 'they', \"didn't\", \"doesn't\", \"hasn't\", 'them', 'being', 'him', 'some', 'above', 'few', 'y', 'in', 'myself', \"aren't\", 'she', 'have', 'of', 'he', 'all', 'herself', 'or', 'any', 'again', 'below', 'through', 'who', 'had', 'can', 't', 'our', 'are', 'hers', 'that', 'not', 'weren', 'before', 'with', 'most', 'other', 'his', 'ours', 'mustn', 'its', 'into', 'under', 'why', 'shouldn', \"you'd\", \"wouldn't\", \"don't\", 'won', 'too', 'this', 'so', \"couldn't\", 'haven', 'there', 'ma', \"shouldn't\", 'we', 'it', 'to', 'isn', 'their', 'nor', 'now', \"won't\", 'her', 'theirs', 'same', 'me', 'such', 'shan', 'if', 'ain', 'for', 's', 'yourself', 'because', 'more', 'then', 'am', 'm', 'these', 'do', 'on', 'ourselves', 'each', 'about', \"you've\", 'didn', 'very', \"she's\", 'o', 'hasn', 'having', 'my', 'which', 'was', 'between', 'those', 'a', 'just', 've', 'further', 'both'}\n"
     ]
    }
   ],
   "source": [
    "stop = set(stopwords.words('english')) \n",
    "print(stop)"
   ]
  },
  {
   "cell_type": "code",
   "execution_count": 138,
   "metadata": {},
   "outputs": [
    {
     "name": "stdout",
     "output_type": "stream",
     "text": [
      "Taille du dictionnaire :  127\n"
     ]
    },
    {
     "data": {
      "image/png": "[encoded data removed]",
      "text/plain": [
       "<Figure size 1080x576 with 1 Axes>"
      ]
     },
     "metadata": {
      "needs_background": "light"
     },
     "output_type": "display_data"
    }
   ],
   "source": [
    "count_vect_sw = CountVectorizer(stop_words=stop)\n",
    "most_frequent_words_sw = most_frequent_words(count_vect_sw,X_sub)"
   ]
  },
  {
   "cell_type": "markdown",
   "metadata": {},
   "source": [
    "### on va essayer de faire 99 premiers commentaires pour voir ce que sa donne."
   ]
  },
  {
   "cell_type": "code",
   "execution_count": 147,
   "metadata": {},
   "outputs": [
    {
     "data": {
      "text/plain": [
       "[\"the thought and thought and do making to is and and and while he of and in where and as getting on was did and fact characters to always life and not as me can't in at are br of sure your way of little it and and to and of love it so and of guy it used and of where it of here and film of and to don't all and some like of direction it if out her and and keep of and he and to makes this and and of and it thought and br and and budget and though and and and for ever better were and and for budget look and any to of making it out and and for effects show to show cast this family us scenes more it and making and to and and tv and to of and these thing wants but and an and and as it is video do you and see and it in few those are of and for with of and to one is very work dark they don't do dvd with those them\",\n",
       " \"the as there in at by br of sure many br of and no only women was than doesn't as you never of and night that with and they bad out and plays of how star so and film comes and and of and they don't do that had with of hollywood br of my seeing fan this of and out and and in having because and it's and and first were and for from look and sense from me and and in character as and and but is you that isn't one and just is him less are and not are you that different just even by this of you there is and when it part are and love and and was big also and don't and as it in character and and so and is far br man acting\",\n",
       " \"the of and and they and of and went plot actors watch of and was well these can this only and and so and and only and killer and of and br and would find of films saw and about and it for br so and and by in of and are of and and is and it's her or know would care i i br screen that and plot actors new would with and not have and lead or of too would and that of every their it and this and of and to and br and movie was and that film is under by left this and is and and this in own be house of and and in and my i i and and things just as lost lot br comes never like thing start of and comes and and want no bad than history from lost comes and young to movie bad and and from reason these and movie and it's movie so and and enough to and and film and almost and and and and and to and i i only human it and just only and to be and new made comes and and high in want to other and of their for and those i'm and that and and and and and for and of and and br and make and and and this and of and br and worst and it and this and as it when lines that make excellent and that there is and and to and and film good br of and and and have into your and i i and and and be and this and and new be home all and film and lot br made and in at this of and how and in and some this and not all it and are of and and and is and and and i i worst more it is and and and made all and in does of and of and side be and and and know end and here to all tries in does of and side of home br be and i i all it and in could is performance and and in of and br by br and its and and well of and at and it's it that an this and i i this as their has and bad and and and and and of and br work to of and up and and br and and this early her bad having and film and movie all care of their br be right acting i i and of and and it away of its and and to and version you br and your way just and was can't and and film of and br and and are up and not other just and was and as true was least of and certainly and and of and and and br and to make just have 2 which and of and and and br of and say in can is you for it wasn't in and as by it away and what have reason and are that and that's have 2 which and and of and br and to of and work and br and more he good and for and at and not see and\",\n",
       " \"the sure and br only acting i i was and as on she they and but already most was and and if and was well also good and and was with enjoy used enjoy and too i'm of you an job br only women than and to was with these and sure little sure guy sure on was one your life was children in and only yes she sort is and but so and them final and to have does such most that supposed and very and and only yes this was and for and on this of and to plays that and to for supposed still been last fan always your bit that and said and and br and to and and out in also show for and was and have and but look part i'm film as to and is script hard br only acting\",\n",
       " 'the and still been that and makes for of and and and and an because before if just though something know and and i i and lot of and and with and in of script their that out end his and i i',\n",
       " \"the and full and to and boring this as and and br and and and need has of and and and to may of and this and and and and and to and he is and and movie women like isn't and i'm and to and in and for from did having because very quality it is and and really book is both too and and of and br of and and and really there will and things is far this make and and was couldn't of few br of you to don't and than place she to was between that nothing and movies get are and br yes and just its because many br of and to and people time very and\",\n",
       " \"the of and and of their br of and and and and and and and and and and and and and and of and and and like it years of and and this and of and and everyone is quite and it and such it and film of too seems he of enough for be and and and and and great this of and thing 3 and it's and and and given and and back out interesting times no all and and some of and seems into best at of every cast i i and keep and and and who and and and and movie of and and and see because you and and her anything it of and and hard and and that's takes as with by br of and in and and they of and watch seemed and it's and if oh this and film around get an of and always life was between of and with and and and and was although of and had death time and of and and their and in and only and it's and only and show if and is star and movies both and and and of music of tell and they of here really me we and some and music as had thought and and she in and and is and 10 this of and and if and and in at is over worse film is and it for had absolutely in and want it for had absolutely in and want it for had back for it absolutely in one want and has that movie of here and and it is and set got worse of where and once for of and after saw she film of rest little and camera if best way and know of and also an were sense or in and actually and he's and br any himself in another and and this is and was and for and get it's such from and will and new years of guy game in and this us hard lives film and fact that out end is getting together br and of seen in of and for and and it and it's and is had do you for was rather and in why last very has i i throughout never keep and who of and and and and music even and scene music is far br and and is again something br and and she this is and not director have against people they line and film is and br and and is and of you it and and he's if can't is time and and and and music and and it's and music is and and and and not of and it along are of and and music his get scene but of fact and i i and this and this and as there for and along wrong few has that if his and way not girl and of love who so and in we down it director in and line has was big why was your supposed last but especially i i of and and of and and br never give and rest or really that best and and in for so and and their even and is and once and like have then own is and has have one is you for off his and we they an\",\n",
       " \"the out can't some to and looking when is and and as it and people have and some br is on and this should and to and and characters one lost her show and for of and br and back video excellent to and and and and and off as in we no that how moments some to as on it early in we years was nothing does is 10 has as new part first that to when is and what have and of and have 2 also of and for as it by br though and characters has so heart and and film show of try making to looks in one want and and br when is him their that it and not them his and want this and as it his for on of great stupid of their as end should is very together br and us and br were and go bad and were young to might us father film any more it her get and of and for find dvd from through i'm her get up and and of and with other is him and has and and to and of and this so and too not as you it get up br is others their was out least that and not was into through to why for as it by br of where and was one your life\",\n",
       " \"the as on there plot she's and film that for find that saw better just is along wrong and and or play this you doing was one in own that and are make and old plot gets unfortunately of on was although and and and that with her do they gets for that with and really way that is played character i i what poor set but is along and and on film is and br and fact to is and br and and them and is and br and and good women show to one good played i i was and film because and for of totally it time do and it couple in and in and get br of my to of and it yet br out more\",\n",
       " \"the and fact entertaining there life back br is and show of performance stars br actors film him many should movie and to and and and are in of scenes and and of and out and not and yes to and show its and fact and to it and by br of where and fact many your way and with and nice are is along wrong not as it way she but this anything up and been by who of and br of you to as this i'd it and who of shot you'll to love for and of you it is and of little and are seen watched and and to simply and of and being it is say and and and in and but and all it maybe this is and film job live of and and and and and and and to be and and and watch is men go this of and american from and and is and put this of and for and so work and watch and lot br that from and and make and and to and from action at and in low that in and i'm of and and i i simply and it is time done and to watching look world and for more and up many fans are that movie music her get and but seems in people film that if and in why for and find of where br if and movie throughout if and of you best look and and to and in and much unfortunately going and and and is him and but of you of enough for its br that beautiful put and of and and and and for of you and time and to as and and of and less br of and and in low and in and some br of and if time and in also side any if name takes for of and it of 10 for had and great to as you and for movie of going and for bad well best had at woman br and when it and of and to as and in and for and look end and in at world and of you it and but is quite br and and of and little of films he an time done this were right too to of enough for of ending become family beautiful are make right being it time much bit especially and for of you and and who of here and at and given movie of once give find actor to and in at world and loved and it is video him fact you to by br of where br of and and and and\",\n",
       " 'the no was and as on was me time along and not no was least that was and for of on with read is quite read been when was and of before than do of and war with by br of sure of their with her perhaps that after another but is and on and but of and not as by it his is must that it is and and br and of white it much and and but by 10 from after and perhaps on watch performances and was own that and to is star some br already',\n",
       " \"the was did and fact and was then laugh what of love it and and it's and of and few and was couldn't as on and but of and and an of too or of 5 br of you in of time here few was then kids is didn't and and it's is and film thought and and is little in we not seemed and beautiful of when it as on has 10 in is script actually and and when it as on has i i as interesting and and it's and not what have one so and to is star in and to it's have pretty in here she and and to and and as and\",\n",
       " 'the especially like after same and and this as felt br and and in one were yes and bad one of and and and lot my and war film and an show about and and and or and and who so and works years would it and and and an show of and and of and her and and and in and and and about and this and and bad one of and like and some who and is and like out and in at be and evil and film made most all moments movies and to and who and be and and our recommend film about and to them and about she bad one of and like it and and who be and to like trying line to and be and have can if an and and and of see and and this as and and br and it no of and and be and and if is very 10 as and with nice are remember most and when is hope br and you that story at what for feel like and and and in at and this as and it had and even and its great two and he and bad least as and on them maybe are and found of and mother only and that with is and movie in really by with entire when it part are this and while and and and and',\n",
       " 'the and on they where totally instead he around very and and and and was and if is and i i have maybe good and and this man and in and have or and and and have and and and to and some and and have and at and and i i have and who of and no and and and have also we own we is and and i i and bad kids and and of and an bad one it as and i i and and it of and and i i and and well and of and and and us and this of and and and',\n",
       " \"the is and hope br my out and this is again and and and and and and is and and and and and and and and to performance not his there's is and and just being film and in and and and to and this is and to have into one as and and but is on was had can't is dark some br of and based just and and and of little with and may and to and and don't plot and he and in could is and and and and are is and and and wanted not nothing from lost and i'm and and as with keep but and and that effects just is remember and was off use of and and and this of and old\",\n",
       " \"the and and this of and it of and of and it movie and movie be and art to up and and to and and don't after that at think still of past it writing heart to of and really it and plot gets watch as and his woman what as with of how my was and that to and this we of its and and and br think on and and of and michael this as on it writing and to of worse and it other is him almost and all care are be right of little it need and was and own that tv not of here it had him was and as movie by br and job where film and to and tv other have action pretty in and some and and and no that trying some and couple someone was mr what have just and and as by some movie that and and this of and use and is\",\n",
       " \"the they of and br of and thought and and and this and and and and to of and and and was and are so and and though and and and and beginning like and of ever watch actors br and and and and should movie and and and and and was between from than never and to takes her and and star and and with them and first of and film good and some that me and so and shows and she much title not close and me and this and movie is worse to and and and of and and and of and all and in be probably movie and and and of and and being shows and and takes this is and and and and of and for all with and no all and and me and of almost not and even and shows after one anyone for almost movie much movie and and i i and with and to and and ever in and and other place this and of and and and br and are and me will and who of and and and br and this and is put oh and know so and and and and are worth but of and and any and and and and be how and almost he's and this and and and and and and and and and and and and and and and and audience and to and and of and and and and show as and br and with of and and and and of and and and like and any an movie and be and they his never and in michael be budget she of and in and of and this and way made and to and old all with mind in and and all between with be and works them more with your her and and and and and to and and and close and and with just is and work and 5 having ever who and in of awful to and any who and and and and all several never and her get all moments in and high movie and and be women than of and minutes and and of and and and like cinema are in and man and to of and and and and and and her now and and this of ever funny come make and and and other and when with and are of and movie and and and in of and and short movie and making are and and having and and film made and and br mr and see in at and who is and she and or and of shot and and with and who and and to and and i i old best world and and and this of and and and and with and that's in and but is and br and and this and and to and and of and film is and house br for work and and and from them and so problem and br work and and when fan and and and i i of ever and and come job actors seem no and and br and girl been and of almost br and of and out episode made at and and no and and half of being br and and be put movie and and funny and br must i i of performance and this and least of and and and who and but and of and and doesn't any through film him and movie off and i i and one will again to anything may and are and and and an most br make her oh and and as it and but by 10 of ever with his and has and what is picture say and she it her enjoy such end and and and you and and in and these also and are and that and and and movie so and to and seen and that with and or and and right and good films than fans are now great of and and had off and in be budget movie and was long of and for what have he part in maybe guess are and also that times and of and even and don't and that 2 himself in and and it and and and with give makes to and to and least as and and but and and and and was why my in and as and movie and story why and one even and this as and\",\n",
       " 'the was one see me of and br wife as on true no was with girl got her get br of on it and this looks in start that take was well why that with his movie makes movie is on oh direction and real one will to of its and seems or as on he of and to of scenes film of and stars and has death and because been for of on it had out something br over and to thought and and however to great love and to and movie great real people this is on br as and take out our is time and and to is and and and people his is very must could and as on it absolutely in at is and on director in at and and take have real these could and for he makes to his classic in and is and and and first is truly and on came is men story one will sound movie of and and of and stars and and to is say and looks in and things is and and with look around very of and become and just is and and not even from and way is truly on to is girl and by they for',\n",
       " 'the and he it is and and and has is found and and and and and and it and and watch and would it and bad them can of and this and and of and for at does for all with and movies and to for be war and made all it and all well and in and not his movie high and and actors know bad can and and and and and and in and or and to and is got say and and and like that and some it of and br about help of you it is over are of and able of their book an of and have and that in not that it her and anyone who so and down course and to and for have big 3 not also and she this of played and there and will life are goes in still and to would to and he and who is and and br being before this and and is and to and and for into and to and have',\n",
       " \"the and this and movie and as and do on it her do for have lost and to one in character that in of here out in can what that after also think entire to that end of and it her and that horror keep who is during doing and and of and he and not and still been of and to of love it and i i of and and horror in one will and or of and and br and and more nothing himself in at is and i've less this of script on i i was although as on in at her do for was and its br of too i'm i i and and real and be yes this and all and and of sense\",\n",
       " \"the throughout good and i've and just of and and for and of and but of and and and and and to about and as you and men to and and and and and horror and not it and movie and is being like who and you it and in director up been and they is and doesn't and and and so and and and beautiful better and no and and and and and of awful and are about and and and which minutes about and in at and it's and and and first something in and and and and br about i i is and and br and and story one will and not as you \\x96 find is and br give and and acting to for br is and hard and and to about and and and and\",\n",
       " \"the was and and and for why back just and hope man my as you and are and and that end in for and worst but we that action one good went br and and what have just of because and original many as by into at and what have just and and many as by into at and i i as you it his movie very this only and movie think br of and original and really and and and movie of and if get and to of little it and and life as every and and short this plot because many to and still i i not of love it very to her it of and to of and if out and this and to guys and and some and and part are to don't if an part in saw some this of here his up been is and br of too i'm i i of and original it and and to more being and and awful and to and he up and been of their become not as you it his and if movies and and to until and but for and and and being and though br think br be and this of and many me in saw in is very here have out best and friends of here i i not these and wonderful as by but they there's is and and always plays that they there's and and to can't is and and br and some br that give gets\",\n",
       " \"the of and film and and and and and he plot is by top and for different very are and really other and this so and and you did look book and enjoy and in and to and you'll is much and less role and in and 4 of and br make right and and is going her used and who be right get and how you book and film of and for and this be and you and and and and classic and of and br gets of and br and and it short this as and of she's it when and and this and and and and than of and and br of and and doing br you minutes not scene and thing world and want film make and are of goes even his which and of and going lines want and and film by and she's and not know it of and know it of and know it of and is and in and and and to by for book are to are to are and that out and another i i this only and of and and but is and you just as in another it for his see real having and their at and that real this good too it's of because and of and br of and job and and goes you'll and and and and series of now everything such and and and nothing another but we and br of and me think and it's is and and and br and and to and by and this and and entertaining other of and may good br of and turn and to time and if his and when and and it early they and and and what all with and in at and they of and scenes but is and and she such his and is again up and to and of because seen and other in of and for story at and i i not title good br of and off one is quite br and but by of and and and and their game in and is time now and and acting and not make and it her and for poor half and what that with had so and and of she's br and this of and and and and their it other wasn't in acting what see that with and is over still was supposed for of up and and this as and and than and or of and come br and really it sound not that and things of and and br while and most of and films and and to and and this and one an of and br is star and and and three as you absolutely in at has and money and years of before audience and these and in and love go and and it and to and movie your and and role is almost keep out but made not and and of and br be being he's would nothing also is and being in and and and and about and and to and love gives in and she but that and and it sound throughout part is and show of try this is again something and and there director get in people not would end and want for evil of every fun like and want film about and probably this and and game in could she but for and and oh and and to and in is and and i i for and we of its and and br of you really and and she and of and goes my and and to and and of and it and and most br any not was isn't and any but were and and and do an i'm of you and after much at of couple and br and was then and of and for about almost for br so and and and about in and show of try and real stupid about of and may never and most of being and that to and and what and life and and like horror in at of and side as almost this about and to and and guys does when was let was and might for what and and me and and and this as almost girl been is and idea just and of their story one and still and and and and it much and and and it read and been and i i in at and in of going all end and in and good very and and in of you was and couldn't of low br and movie of and and this of and and and and their movie is and but were rest and to of and and for saw first of their film of and br of because found not into especially and in and were everyone this and and and br and series and and and was story why not no of you and family but wanted and that family and just of going it looks movies each in own of night is and br be and this so and and and br and and i i reason and and tries want in and this of and but movie both movie it and and and and and and and and\",\n",
       " \"the of i've and on with way this and film and and is time very you and and did br and and want is and done on and and and all br screen with and movie all family point turn in at this an br be characters and and movie and and with is and br and take of on off and in also is over both this and that end his and they of and br of and house these that it is played on for real at life they there's true\",\n",
       " 'the as it is time and and must has is small whole for there is works oh and most all low in and they be and and and in long an and br and br of great this is playing and br and and to and in also of and br is and br and past and or actually and and and there is and and like book else and show and to it look so and and and br and or is and more he something br budget and better of and this were and film and and to and early around get of every that it girl each in perfect man second some br of and film as you not like and that it see is you in own have is again and they is and certainly way this and',\n",
       " \"the of year house and br am and of and br and never of and this and of and with and comedy and and if each but we in and this and as on most most was nothing terrible when with takes i i and never so and and of lot it time and to was although for but is and and and out effects sound would it and and not other is time and and and and and and movie and it definitely to were and it of watched 10 br of how face her that it his had is and and is and not is him did their i i watch of and is actually and trying and and not of and it and bad start point comes how did her was although of father face and to were and and interesting and and i i and of full it and of and he thought and and of and person and and to of and and of and one is quite br sense but woman not from and director are of excellent instead from he her death and and and and for if makes i i case was story just time get in and that this and it's and in could is and and has as seen characters\",\n",
       " \"the bad me in through in so and her bad and are of and in and of once watch that with show was and they only and to takes people have one is and all and be yes even was takes her have way we character of here br as on to was one even and when out and all nothing could we not have does i i of on and become with world very more with is quite br and that and have and them moments of once of once with much that out and have and episode this are when and it's such times she friends of and was and and back story and in and that not that best off her was moments scene and play and that some to was out three and and and scene and actors seem watching out movie and movie and and with i i was these one even and when cinema are watching out and was nothing hope think in and that most was woman story one will and i i and was also that of here br of on it when and and\",\n",
       " \"the and and and this drama br while along wrong and but and and this of and to of and and it by br of still and i i and effects is and and like and got and to and any to them and and or were and her all well perfect be and war set got watch is and to is and and of left they be line to and all it and but of and and of and and from and while and in of and to of and and it nice to and performances and and i i have one can't family dvd this as on of and and and br so work and is and to and about and is and to and and this and everyone and to be war same from and still this and girl been and this of on i i of and and it main is few course but and and beginning him played i i and either mean some br already\",\n",
       " \"the was one you're of ending is stars br gets to as on thing and and movie that real was after episode as and that it watch an is on take was one and and film of and br of on and there turn in and for as on to of ending that it fans are he fans this and and for and this and was person this and was and she this of and for as on it absolutely in at fans are how br an of playing and for it and has movie of and it of and and and this of and film is and br however and and and and it of and and may and to and father of and but of on it enjoy and and it this of and and and really it time and film time again and was and doesn't as on not that way we and in can only and never and her do as with is now and and and br of and than and some this of ending from and has and and or and and in and and was lead have after what have then second is and and and having too but especially like tries in does when had and through scene and and and and and\",\n",
       " 'the was and as they is and and an was well why it when of and as on effects some has movie and movie and and and of guy but and if and and minutes of and far br actor to which what have people and man and this of and of you it these her and for that interesting which makes i i of little and and and and and looks in and is and really and is and and of and trying watch and in also were and those and and any but and to and some in and any i i series has an of their more it of hollywood it show of try and br and and and can and to and to and and without and they by come and and is and and to and and film is and and are try br that title series times and and and and is feel are try br so and episode for at man and but as and do you',\n",
       " \"the is and found and and watch both going and and and of and of and house br of until and his comedy only and it and and how line full is their has is and and sort and and i i of their br of you and however and and and like care this and film about seen and and and and and more would and and and and and this did film made to from and and were whole it and no and there is worse and and and and not were and it men and movie of and br and and killer and and find any and were definitely acting this and to saw in and to series no of and sex or of and from and i i and give he and in can of and to of and and br great and from long is and and in and and and to no from case and of and from one in and is both and and in be and of and and and and film of and and find that is best once and to \\x96 but any is and and for and and some br and but even and br be and were and and from also nice performances out this my new from well and and made watch for from and in of and and know and help and and and care film be war and and and and for about help this and it this and movie and movie would and of put not about see and it about killer this and and and i i and more and and br about help this and and and to and for and and it is too br acting but made of hard would and about help this and and about works in and is and would and that to and some sort made and in and for from and those in and not and and cast no and it and by hard and is and things and and film about works this as and and know would it and who is and help this and about and sort as say in and about works it when find she of and br as and humor and you i i when and and and or its many never way better and it other of and and br of on of see and it and and making really and in and and of guy of see and and it of and and and and and really there will and who and and funny and but of going trying most all there and good and boring or be down and and it of acting br of you to there dead is and probably movie is and killer would it woman in and and but as and and father it shows and and like it those film is and film as you be and and and made in of and to kind and be and true cast film as almost and and it of and and br of you film is and to and and for and she sort give of because before and and movies it this try and to about and and and film and it and and and and of and understand to and kind will and this in also of and idea and old be almost with his had and kind bit that much loved and it is anything and you been its and some while and to of and and and it woman in also that is very and and it woman in also of and to night and she her when what of you and in at and and who they there's am and in still of and and these there of and in through are comedy is and\",\n",
       " \"the of how face and and is very and when in and or of original and and in at and to is quite br very lives was did of enough for from and and of and and of films and out that's in and and br screen as ever there good and this of how seen original more he good films like but good everything then ever she this of and and plot br of films one is and and better not good br any out and more just and to about and know of and he from when and in any reason from into and this seem and not that it is over and for never takes head and in at and us face course of how seen and for it is time each 10 in people was people and for this of and and of and it up are being and been of and and br of ever as it his is do 10 that which and good and or often rest by br of and for well at and of and br as ever he of small films have into and in did while films very it's do not and was into pretty in can good and in at and to also and of and br head often and and in and and it and to for story at and\",\n",
       " \"the was then does when that it was same her and has as you not of how my was least that was children in can don't that and watching his is thought completely br and and and br black and not was with video and out don't to no and story same be and an all and it for of worse there and and and at and was one his life as on this actors and there that will and are day this is go not as on it and br by and and watch of and br black and worth is time and to humor and and br is say head who be and more it so and and this as on for all it set but of performance and br others and this of and br as black to of and for all end and such as on it his worst are year it's remember it is and in we\",\n",
       " \"the plot one and for and fine direction and it is and and better as it his had wasn't old of and and and br and and way while say and and and up and and but you and this of father star br of and and fine direction and story at still and movie is and hard and br and and if is their has and are by and is and and and in and of home br make and are of because is and and and and in and of and new that well and think up care and and direction and and is time and you make and done and and and who and boring to and and i i and and and and and and is and acting and and and and and and better of and and br and were and family and this and no and and he and who is him picture and not is direction and and this of and br my in and of and watch as and friend and and film and is direction and to and that in so and not be and and no all and and is and and br of and go of and and different are and and and for is direction and it so and and and film is and and to and out just is others entire these and and into and and made for of and into point start make and to people dvd that well in one and and and game in and has of script and and not of and and and this of and and to of and and and in and for and and in and in and that things to and that and and it and in and of direction and of and and an of too in of and and and br of and and know say to and 1 some were amazing and and sort having because i i seen seems and some this as you by it of and and who and and came of and and br you making br an my be and and are and and and and special of and to and of because it of heart and and br and and really find of you and and in of and this us because and and fine direction and it is and you for end director in and of and br make and down to and and and and and unfortunately of you be and and simply and however be and to and and and be probably and of and and and and is quite br and and not and in and film about both and to and and and has of and br and of hollywood br of before he and this and to and and of its and br really and and and often about and and better who of and and of little it and and or sex in and film should and and movie of and and and is and this of and and for and to and of and and believe if and in and for and he and and film and and of less for is and after little and sort is and others and to and that some her and it and and and fine direction and it had by but and br of say and and and or of and and its into saw tv or of you and were and this and to and were and film and\",\n",
       " \"the and and and and and and in of goes watch be and and and as my if is you series anyone but and go are is and and and and of and br is and and they of and br of and about and movie have 2 and and this and and and are of liked watch never and who say and and and and and high and they and movie all there in and good and and like i'd of and are made to all it high although in at of watched and all isn't years through are of and to mr in and of liked and of and and game each in and want of and and to could want looking all it is very and mother to his in and never and and in of and and and not all and and this as and and and and of and and and for and us and it world and us found this of you it is and yes like and and show it and br of awful going and br screen and this and this are of and br were and having my movie from and were and and music which is and and and being for and and as with is you way who now budget but now budget in and were right and and if is and and\",\n",
       " 'the and was out nothing same of and and movie and movie of and off of and feel to of and and feel than around done believe and nothing had stupid want get has any of because seen and than is and to of absolutely and may any nothing and she',\n",
       " \"the are and and and of each another and br of and and and and and and and and of and and and and and and this of and br about and and and this actually and to and about in through in is and film of and and to works br is and and and and and are of too br of and all and for from me and or and in actually and in and of and br of and and like it be where under he's were and br and is and or and and to of and with out is and in and help and and and and and to and and and this did but and to and and and be sense in and and them all and be humor to and and from also and to and in and to of and and and and and and and and and and it so and found to there is and and and are and for and about movie is and by someone seem and and for all there is she's to 2 at and to and and cast of and and and and and for be war to and he our is did and no and and for would it and and and for of and and in and to be and and in is and i i keep are of and it so and and and and film and films to and more he they there's seen him characters film films film and she's of head and and film and probably br and and to and br and to and and film and probably br and and and and there is and probably to be and and but and he and to and this of here of and keep are of and it overall see to best is and in at and in of and only and it and i i white and and and and and this of and\",\n",
       " \"the movie film plot because and and and original as top out nothing does no in and john br and seems movie from than and and from cinema are in and as of how and br as and in and and men br of and i i as on real best one and that with his and but more in one will is and on this as top to that woman worth of and it and to of and than of every i i watch of small and really with of and as with is and and really and br and and to and love that with and br of and fact this though and to half is getting and and both watch that with show i i that and is later wanted didn't or i i of and\",\n",
       " \"the as her oh and it getting was cinema in can as and are of how hard movie of and to and with movies get but we in and not and of how star so and bad and for as it is and that his see end his and of and and not other and of i've and of guy me and of and with and world is again gets and like it so shot shows off so and together and with and of going children in and don't based be being it not all cinema is far and really and this that never and and like it course and this while yet br and with other is and and his which also and has of actually feel and by and at and in sex better is and film back just as and and like with and this but is again and against which also is and some br especially most br be and quality to of and and and and and for would it by br of sure and bad one and an this an and like was between with by br of its and to and and and there me and and all and she should is and and to and in and when it and movie of where and on your to way is and some br that\",\n",
       " \"the as with of and and on to of performance by and and with however in long lot this of minutes br new be and home this and of how job many and of and films than an way to and first and new was with and was and least of how to father and this of i've and of and on to of him and and however of and and movie is and not nothing can as and by of and long and friends and and as with and watch was me life make seen and to and and and and but of how my this plot actors as and and on itself nothing and we of how my was least that to only father and and job actors seem action his one and we movie get not what his that waste nothing through movies anything and i i of and and and and and and some in at is thought and are were and and from he and or and her from into and at and not and from into an and american to through in and in classic to also were ever are and watch were and from and and but is and not watch plot and from case and in lot to through same and its br any and and not and and to it these and in same of times and to and of and and all role is together they is actually and and and who is say and and of and and and and and and so and and and like and art they about and and movie is and movie and and be and in and and years film of 3 br and all thing does for and and there and and this actually and to it years and are made would and in can and to and american to in about that different just and often wants really and in and i i no was least as on but of father my that and and they how that turn is over and and to reason which and however of 5 more he good makes and special as lot br of you should movie and and is found i'm of night are of and and not but is over go of you turn and in we and in make seen and and that three both new for and of you it overall but of its lot film and and of and and of and and movie from lot to is quite for and watch for of seen and and 2 at and and and watch would and and to and and not more than itself plot because gets no was and should movie death and looks in and film because and of and these one were and to and and really and other and and of on but of its lot movie end of little is and not and by but an and more he good and understand should movie of and and and to and and probably movie and it and not and br while and he movies and to he anything or that's in and of problem and i i was story why of and on of you for and of and this and it of where br of i've and to for horror in at of its and and as and you it away of and br of job not an br any he very and and or and of and br of and many this of and way watch and and and they there's of and long and it these of and was and through first and has when was two br of and and you and and actors watch were how by he's always example and this only and br that such was although that her and to which old that end one good and watching and his and take us and on and of and and for with way special and acting it very and but of script whole which what of father to and and having and is and and this son watch of by for and and that\",\n",
       " \"the as you with are and they left no was least that that with done they sex not that nothing and we movie is script was rather even and completely this enough was then just and they an if and and to and and who and for good also sense but and having because she i i and was supposed of sex br of you with and before and course and and and movie and and was then does don't and of and it was and you're and to and has and it's and was then does last has of say not that with world overall i i movie of on cinema are was supposed that head is over br if and to was other head and was and in and and old not of performance and with out his very that's\",\n",
       " \"the and as and and and people his you're what have then pretty good and and in have new have character of you i i film is down just as have and and it's his of before to and and and when from than often first off from can of guy to why and wants and br of and yet with should is and for as by big and and \\x96 that end off from which two in and are of and and was let story have people is on film of going br is on oh and and and and and like story seem through are in and of and amazing and and way as that find have and don't of great br and and and and after and amazing and to used and some are of and and i i of you it place this is playing and this actually and is over worse to fun he this of and and by left no is and and and and is and and to and show any this away of sure excellent and and br of you of and and good yet br and and are any that and just and me and is and br and this or br of awful and to and be and and this that her times tv have he and film and and of and and to of and then looking of history and bad can and and and was same in at is and shows character be something this and but and movie from he and like it written is and it's movie was oh made of and and all and some br of and all it this to all to be and he and who of and and and actors through who to of fun there and she in at and and like art film about help and and this and and and and it's back just for and and good and and this and and show for over actually and and to would and more in and that true would role more of and and and about to and about but of and and br and and for one will part are to and and close and trying in about and or as come are of you had and movie of seen and and but having because course watch and and better of and to and and for all with of over worse for least of and film about and and actors and go as rest and it and and and film be direction and they be able it and however and of and to think great all and first film so and and have does though and and and and and but and it's and they and of yet for have and in could any and and and when different just by br though and and in and and this great if of father sure and this of on us my and it are goes film of and and of and and and and seemed just of and between of and and and for and that and she minutes of on few which and been that it i i to when end an as michael she in if each in stupid no of amazing and scenes and can and to be and br and classic in and of and and for and although movie good yet br and and and not and br that find actor such people and to and and to and end his and and such all it and and to great to such all tries and performances not which for thing could get actor no have had two has that was let such thing all and and close and watch an all me and and actors in people that to of and and kids made what and it performances and her such classic in and about and br of and that it best and when from had children some br and to and when it were and such people from and her both in and don't after from at her woman and story saw those his for of and in think br while to because and story one way of and think up and have story these one do dialogue had do love and who and and instead to death becomes and of mean and or as on and and and cinema are in idea this and film and and and close and cinema are in at and this and br and characters name this show of try and and and way is and br and and and characters times she friends be home and and cinema are in at is him being shows this is and and br many and and like anyone is and and and and and way of and and this of and to of tell of and new and first of many all there will and but and have well and and br while mean your pretty were and in and in of and and and and am some br didn't\",\n",
       " 'the of guy but as day and and it her do for which is and they good come me in 1 just so and lives and her movie in and good acting this be guy performances being was people his does and as with of and br of going not and and and director not and and to and br and and of now and and with an for not them such could is on has made and with is far up and to be both too things with movie what and in of and and and with and and his most br and not most br of and guy go would me in at of and being br as and and lives character that see what have use and and and',\n",
       " \"the and it who anything only and br an br and art and it by and br so shows be and br as with out heart be and than and but movie both movie that with that it and but is you in and only and take was with and this as and felt was wonderful as in especially give completely br and to though his her get as there dvd of and young different but this make many and and to and his in and and and house not and and of script another as and even and and no have and of you that into might movie what have you're of 1 and and don't have why seen and she\",\n",
       " \"the this as and and as and more he and and to more he and and and are and and of and to and and one is and and and and and it is and and is and and and film is and are and and and is and of and br about and and and and were and most of and and to much and and and is and and for and of and and and br and to and not and there is and of and there is and really and and and and in of night and new would and this and i i and there best and movie from why an of too film is worse i i they is and bad can is and and br of and recommend and and about could she this is and and and it is and and and role in does and and go about and and of and and humor go of and book i'm of and br and and but and and would role and film of and and no even and set this of and its and scenes of and and and in own of and is and this and about and i'm of and and br and and and tries and in just about not would thing just and and not if up and in of and for evil and no of and and case and of and of and and is and of and big and first is and and it's is and most of and and head of and and watch were and and and and and can if and really it of and too br and were and film of and for about under and about movie director up been is and br and comedy think and and and and it is and would and of and br and and and and and and in one by amazing and new about and and and make and first of and i i of because and and of because and and where under and and and to and and worse and and and and out just think and and to and one is and and movies go and and and but did and and and but recommend not series acting series of and br and she this really which is under into i'd are is very under what of and in and she of and and and become they is and of and and and of because and and watch and and this of and and and and it is and and role in and of and most and believe anything or never and it and to there so and and and game in and those who and about and movie and and of and and or about and and and and are and and and not of and and and evil still been and still been is and and and some for about and he is and br and i i and and well at and in having because i i seem this of amazing nice and and and and for and there is and movies to as and and and and there of and in i'd and this of and and what that his example there and and well at and in having because this is too for even worse after and\",\n",
       " 'the and their it and by br of where art who of and br without high and in because without many and their find and to and few just and of and something he much and to of without something he and what actually top entertaining there think actor from story and as this and',\n",
       " \"the and not was into and give of little top to of once but have this and br and is and and just of by for was years school of help and to of killer and and this is and in and made those in of whole but and to and end and it and and and to writing and br of enough for all me and an and and and i i not movie is and like and plays only and someone work and be where and under that with is fact and years only works it and for an all there in people in and be and those it in and and people his and of and br is got humor even and br and into and made for that with see is on to for be and it his and those but and that there will humor and in character be and see in does for and and all into one in school be and and i i and are have are and br an of and for one head is several by and that it each that's in and film of and by my but is and not more he good and for bad and which and movie is and\",\n",
       " 'the no and and and and it and and are of and br is and during and of and and and to out has in and in be home that and and we br is and and scenes this funny you way and actors seem of found this and this really and and and and it and has in and high first and go never and i i and give and and to and and and while and they and who and and and and and this give while something no into from and have big and of and br him and and',\n",
       " \"the was rather and and in could while yet br and not watch and i'm its br and and on was might just was one had and of times in why when was might has that was against look could that times in of here to and by br of star and it's up and and has later and br of night watch of and little and finally to and and and out movies get in and as you it an and to even past an gives to even and that it and things who and love is and and guy and and to and and full and don't that can't and and to and it is and in we was and have is and and that best book are and and of and and story and that and is had do you and do is had had had death and to for it comedy which and of and actually and and role and first is and and and and writing and and and and maybe american as on it is and and but and entertaining\",\n",
       " \"the was look least as on they is and movie and movie was and of and only sense would takes seen and was me best and they is and new it's he's even and movie and movie was and though and was real one out and and and in only and to and line not even and was cinema this to plays of on as on nothing could especially this of and dark his which true his which and and bad and more this and and us and since it's her play story and as on and of night story and and them and more this and and and but funny and since\",\n",
       " \"the new was plays as you was you're is and scene and for as you after and at by br of where many your and and scenes who scenes of and and and or of and films this as on or of over fun and and to looks in and of over worse in of direction out and has comedy think and to like with of feel they of and and in of over worse seems out himself in and to them through and this as you movie was plays that turn just of you with part this by becomes them out thing through and not first is actually becomes to are to are i i of love it him not of you'll it and having being this having scenes and it's end back her and and to of and br of and down and he else and more he even and in of and and unfortunately of you minutes that and to and is thought hope br my\",\n",
       " \"the as along and and and there out will and movie so and year and not and movie lot br is and br and characters for was example me this only and was and in and that or because and girl been and but for and and really it out movie much he's of here and with his last and excellent what and and they for but and of little it around and fine which old this is too that and of and and and and br and and and comedy think br for and and and when bad one scene this enough it is and and and and fine and bad which can and be and and br and film be and and fine like and and high are of and here br past and and and and and by my movies plot and in here that an who and high first of and and take go and out for without all it and who and and and direction and of and to and that's and of death and acting film of and br our of and people an of and another but made this and believe that it and place this of past and br actually and an bad had can they another it and to and and and and like and and of every and and fun and and show to show this and and fine don't it for but past like and that's it and in is and past and and and br and new both of and it and film be and and to and it and not them and and and and role of and less br and funny and in and is and and br and another was off his does for and and can't and her movie in and don't and be and it part in at this of and and and high first and for all it and be and who and and and and fine to and fine and really and in why and of and br of and and and bad he and in looking for would and and but about and and and in of and br give and to and and believe of and it and and br don't and different and in about and and br and and and and all and better and fine like me who them lost and fun fine this and and to and and and in have and that and has be and in and made movie of and feel but of and and of and and and better be and and things in and be right years and and and and that's believe as with and and you be human this of and it and who of and and\",\n",
       " \"the and few and film that more he get still and br of and br simply and been as believe was two as their it and only and it and are of death and br of their really was one and and i i as with way this of and and to it and this of making and and if makes in can and movie is and hard and and and i i of scenes know and and and and first of and and need entertaining how better was then laugh don't and have he have into and in and and and even and don't do man love not from had and for scenes that with and and stupid have when old was me him and this wife and and and this is and home would and we\",\n",
       " \"the think on this really and and some and is and it part in at give so and to is fact and look it see do most evil and and to and his much and who about and idea and and it do most much most kind do was couldn't made this and and actors seem not and and kind tell scene his for especially fan it very music his is and probably and and and and and for it which and always best life is on film as plot do boring this of liked br and and of and and if and as it most br death finally to becomes movie kind bit very another this of and not be and anyone who and and it so and and of you'll it out and tell to of before and at and but of getting seems from one in why not from why any her and of and to becomes he entire been and and he and too movies both but even and everything it's and better new of and br of scenes well at and as certainly with anything entire been final and to story one will and and to away best which way comedy of and br is stars br and and by and and of and this of and and it and and of and br for and this is too which thought goes and and one his world bit her much to case given as it is do house br and and film is and and br help and and it's if is do house br around and film is and up and and and may is and back to is and someone work that and up br of and been of and to and it around and\",\n",
       " \"the and and and that and her and those this of and br and was start them of on moments some to of and and one will and film of and and your he's i i of and and why and and and is him fact and to and that of and and then own is and has and their from and has and and and awful and as it is you from and that real at and are make right movie that and give and he and \\x96 i i what by and that and movie so and br and and of and it and is and is and and is original br and and and i i was short in and for are and and of and and and and br and and and and and and there is and movie so and br and and reason would with and but about and and br and and it's whole and not of over and and and br and and thing and are think and this about and and i i and of and away although about and take all br screen it of now and to and are make right and be and but of and film make and br and and and and to and and out thing and she in and and i i watching and in and and and are make right and watching which and in long that movie back because been is and fact and on not that thing and movie is and and br and and to and given and given too of you around get and and i i he of and br of and and now it's people from and see this of second how movie and and and who over and and them movie of and br be help by and don't and and and it life and in is and all it this enough set first is and by and don't of and and and and and and in and and and and and time and and i i not what and of and and he and and br and and and and them like and and of and and some br of and and performances and and this and her for all well through are be and and and and i i to well especially and film is and school for simply to picture and and and and br and movie is and and and for and she some br half and to and is and and and special of and and and he bad in and and for and and do and and or is good went br and acting and to what have and for he's no he and great absolutely in at and and and were and and i i reason and nothing laugh has be and reason see children in and is and br fact and of liked of you game in and make and and in one that give and and to and movie is and of their it is and as on and and film and to that waste thing and film and and i i was then and for is again understand br and and to and and he and unfortunately as both both you not though and and and and life and this over and and he and to and to and and and and dialogue and watching line to and and and and of and and and to and make and and was does was and this of and to and of night dark this and and and and bad then one in long as and and case and it used they and it's fan and and special though something this really and and however of and and go about and game in and were works is and truly br and and an and more performances this were and and and years was had rather and i i dead and and and show of actors by well see and for all and out of went br and and and and and and probably for of going children of probably br and and movie is went br and house br and and this of and to called and it where and show this and i i as on else thing and his movie so and his are make right and that away and is either some br didn't not watching and that is later most that there will her and show and this as and\",\n",
       " \"the and was big looking watching of how to see by in and is and are as him on i i believe of on become turn done that's of now 10 for and we in as by it and and and its great away given two kind movies and and it's out and and not and give of every and to or of every and to always plays as feel her plot gets for kind by br only and years as it by br of again characters know all it of thought nice to watched idea yet br just this and and funny him and you i i and as it and man and and characters not film up and been last really sex in and in and other time and this as on it funny him shows and and and is time 4 and piece this of you and of found this of on it is and to would interesting movies do believe have does from and about and but about and to of and scenes i i if is and br and and and and and movie having pretty in and of and not and film even by from an classic in also and in and better of because to if is and and in and and worth be wasn't and movie of and and like and and of script and and to found 1 is stars br past and like he this kids br sense and in is and br and and being it is far and to and unfortunately of on not for see and in of and br of you i i of and half to times he much and to of once it time and and to find have might and much reason for and are of and br and have just as on and we time and and of enough and with this that if is him on to final and wonderful that in especially like and characters and away and just as on not from then character characters and from just characters and\",\n",
       " \"the was and was me in and and i'm as and and year watch has and since director with and to seeing there example and of little not there especially and of and scenes is and and it and i'm is and to if and are of and this of and and watching and of and and off that maybe if best and had and and i i was and as me will is still keep it's between some you most when and half film what around and to is on for find even actor interesting is and on if out is and and you i i was story just in can is and she house to what more with think and and was story just in can what that story 3 and as it so and over you for it where what and and i'm\",\n",
       " 'the was plays of on this is and to was had several that of down it shot to of little it and boy and funny and br of on it itself of making really and into at and and was wonderful that in seeing like and of and and to course in an and through to can if him',\n",
       " 'the comedy and as you there in at by br of and this and guess was one that plays movies plot gets in start to having my that it just was rather wife of you but of how my i i know end by and i i and and and probably it and by br of and br about and and and who and and and and to and and and having and to and br about probably find think because and and and first and about and and br and and film about and and and to and and br and it just director your life are of and goes i i and it came of its and and br of others and of and and and to and and scenes he her and film and to and for of and it half and i i and making it and be and br of making br of and and it and to of too this really all and of and film seemed and and to and and and it and and i i only see and in especially like and and of and br and entertaining real character as and and are acting to past',\n",
       " \"the was least as they of and you and that with tell us and and and worse and with are and have out and don't that with part in here course film an of and br of and war to of and br of how fun i i of sure lot with of and is film of going and to and and from and in saw and movie and not have after stupid and of and for also better are and was and last from and and to people and i i then hope man my was me in perfect only and or and some br that\",\n",
       " \"the and then and it's which two has and as on from then which one that and they of and and in and really story and is later was two make main read been for of watched everything such was and as and on with most and and it this of on and may am already and was into own and for of on me and and to world is far br and not because been for have 2 movie much and funny and fact on for there of every 10 film and have does and and there up love my this as on been and evil his which are of and and br of on and about human was wonderful great in character and and most have can and family unfortunately of script on and its br of my as on it is thought and should is and hope br my\",\n",
       " \"the was although as on in at is him less for nothing and that horror from although is too in and and not against and were and time much this by liked of and he are of and in same of and br of and from and through or and in and in and is and and they of every my of and say and and i'm of and and watch an of and she of and and they of every my all role and really it time and and in why of there's more he other and and something for long want and of and br of and and to war really and or of and girl been and in that bad he and and br were and to of and show it so and to and of and br think and br is and and film of and movie and and my to cast it anything up and of and and it in and i'm of script on to of also of and girl and once was let that out and this is and\",\n",
       " \"the of and it doesn't with so done you and how br an of loved might with and and and to playing having and turn in at is and br back and back time and to his lot br is and certainly that with and when bad than in few they this having and of and br of place become and in for and br and to and of and camera of and br of and and of and this star to of and and in of and and and who of and to again and for and movie of and for way she when turn in at of problem and which of and br of and with and who is and and are really by well and of and br and and and this of and even and and this enough that and we br of and and br and and know of awful and and this in of and and cast is and br is playing and know dvd it and i i go of love with and and was had after his and don't of dialogue than video and was supposed for of and than and and to and such and story and and are of too would off no and and be and and had nothing himself wasn't fine great and had and for get to of being and with her and to and for which what from than and and are and and and but and of and turn some br being to and to and funny despite br and love with no of and and br and and she to and and in and to with and things of and of too this really all can't she to and moments she of and to of and and and and of and with else and that three for was just and something fine and and fine not that turn is over and to cast and and i i and go his is version on in character that and so done and first of and able br and movie and in of and \\x96 came that and first comes and br and next of and fine and own have is and and and who of show and and to and and we in and and and and and and had and this for too not true and of everyone of and and and its done and to now to and is and was best and it's and this only and and br and this of and and\",\n",
       " \"the watching away by br of and and and beginning some more always you're us ending job gets show to always anyone is quite br of and and and was several as on that and have and of script my have plays that was cinema film has didn't br only women to seeing several that more than job found and side want like and in at this were and and in style and to was and any don't from couldn't that from takes from several that her have can that into at so and in an and have out one in own that is and to that and is and movies out at and which what seeing however have it and and her loved as and with him watching part in can that is father my years her and and that and make is had very on\",\n",
       " \"the and in and and way is far br is and no how and this and have me and fun this is almost for with and and movie and and anyone is and and and set but very gets this an of enjoy and to more first and and and and and movie is and fun close and movie and and and actually and and to that's and and in performance seen characters br of and and if and read and who and to should old of and house there good br of its and and br think br and and many they there's this be and and and br of and to style and know all turn in and and show to show and and times better of you and br and and to dead is and and if is and and for by and example least this and to them cast in so and this and and to other this and some and and effects and fun and and like there in and about human br and br and and and this truly and and and watch never although film is and of and and or and and and close and and and probably its br of too i i or of sex really and and horror in people movie is too br and she is and and and scenes movie is too br and of and scenes br and really came all end out this and and bad also is original br and and some and i'm of come br and br gives become of and and this of and and in and she up br is and film of and become br and to and in at and been think yet br and of and i'm of and is and in and too it bit film is and and br and and film is and and far and this film of simply and of being br and and works and and like effects when it and is and house br of now acting and and movie is and and and and film and to and to if an overall to and movie and movie back for trying wants in is now and br when find and and and her and go never her and and and who is and and br you minutes i i are of because and for every and and and she and those in and of going this of and is again gets this and actors to and this and in and that and in lost time and to and movie of their there in and become she movie of and and saw american which up and say like tries is recommend and thing which two kind and movie that it would like it early that more it so and scenes this of and and for find of and and you few just so and and and to of amazing something they and everyone other and and first and is get up and and this and he and but is and for which but and and it and but that of amazing nice course and is and and this don't in and and worst more it is time and to and become definitely scenes they of and and and as and and know of and end good another are is and in really an of because and and just and this is and to so show yes nice part she to she show of scenes it by br of where and br and and and your and are you i i is and them for of you and are should is and to and and know she friends them that it is and felt br and entertaining know and it an however this of and and and and and awful and and her and and and and for real at although this of and br and but and and if even and not final waste long that show its br of and and and think hard\",\n",
       " \"the and this how and as and and and and horror and and years not if is and despite br him black my and that with way those no and and and with these is him going and an be seem where certainly and and all best way is time very totally you as on and of must br its br and because many to had that with and on his and of and br of and well at and in of too of and br and off of every in of and of see very and this of you with is and and like me of and human br and from which me and long so and and and are is and and for role and who is and and her and also of and up and she in black of and br of and it's doesn't and and and and and this that an unfortunately of you and and be and or by yet br and and in funny and and home and and and and to and for through better this out of times put in perfect about and of too would it and or is and and it even up and been of too of and this and and than and and or of and what was with think up and in should and was story and and but our is lot and and i i with that is very you and or is and and and has and and and and and fine for with and is and which those them fine have 2 his at and guys same that up been is over and to and by and not of how 10 for moments in only second watch doesn't that it for that with actors new and and and br is and and of and br entertaining movie much movie is and and but and that way we and when and br and and and and may of and br totally to of and ever are and all turn in and be and and and and and not his and this is and as on it but later you and am and you and either and and beginning it's wanted and beginning what should is piece and\",\n",
       " \"the and and war and to were and history and to and than get couldn't to and this were and and br and and not this of style and br and and and an and than and and girl and of and way so and are and and and like and in of scenes to and of screen br of liked in make and of and with of ending this and and and and to and much keep that and so and where and to that and is and but and and in as hard i i of and you house br and another it family movie and movie of ending become and this simply to picture this plot br of now acting and that there is and and son and to and to of loved down it and as it of you are really and and and movie so shows and to and her movie direction and and and and have may is and and to of and br and and that it is and probably or sex in and movie and and and and it even read sound i i just and ending of you and film and to and movie from and in and to and any in of and line see in and and and of and in and of and for case and this were and to and of and br of you there point will of and they really bad they performance can when and this of and line look and this of and everyone become that it is and and and to and and i i going to and and and and of you film is time and actor br and and see this of actor for all and of you in lost and and dead of loved and br of you take as friend is and and and and to and i i and and and\",\n",
       " \"the was three and get to in at and was nothing just as you of how my however not doesn't that cast to was and for if and and woman if is by and you not if is makes and i i play and for that after at still keep to that after at was two as you me of and in at is show of try only and and not film is fact and john br is and and if is and and film out is far up you'll that after at is need of production he and music even everything such from real and are in and and or of and and that story one will him in can were and and was does if is must not if over and for and of very many or of and i i and and it point played to and his in and and us my would and have into movies if each in and is you no of watched being it her and to that had it about and then episode about different and have first and for evil good went br and much would it not evil is mind by of went br piece and episode few watch man production and episode about and but any old i i final wonderful and that is through i i out then and movies get i i evil up been out is him place br and evil other so and and br and\",\n",
       " \"the what poor is completely br you and to two from then could and just from short in scene it man and from out then could and this until and bad isn't i'd in of and in start don't and and to and is much way you or for and well at you're only and it is and and over and in of and or going and and and and and to sound boring or and and to and and i i of and little after one will keep this of and and not and and and to is and not and and and like and some in at and and and having because go and care br and and to and and having because in and were right and and and did and and and she and and and and and and wants and to and br sense an without beautiful put this and and to it's and and and i i and there and good and and br screen of and and it so and and and like and in at and and to and about and and and in long and are though like and about to know have 2 and and did something have and for give films he and and to and and this is far br and and to making to that horror just is and you not could even and as it work doing you and if movie very movie think you or of and to and by br of where many always life an someone\",\n",
       " \"the is and and and no good went br and beautiful put at that and part better and is and is and and and dvd this if and it's but for and think because and and this of liked br of and whole take and with back really with even up and been were hard in hard care and this of style and and with so and really with and to and of and whole with and br and great of help is and like with and and in and be whole and be war with and and to and of seen and than much and when fan well have why and and and this as you new all with had of and and to be love probably this as you with in why of there's and be and and with of and and all with and who and for than and to and who is place br and for and and and film and and and with is and or of and to and are of and have story two for and this of and me even should 10 worst and and and to and and than movie get is lot br and movie with be and and and and and off was why for and as with of and br as and and of and br and and and movie of and and really and of and and br of and and to in is and and of help was story and of love this as you movie and and to of and cinema and and maybe that as too especially like and as you into pretty in person this and and and br and been and and to and and of and to and for of and and me but acting and this is you people have and and and and and is and and in and and that action at for play and in and of and and and acting in of and to but still it's entire of help and for as with part in at of see too of seen br any after lost budget and and and as you to and of their br of and i'm of and br of and and and and role and is and they of and br and they and and to and of found all into point at this did film when as you other and some it for of and and and there and so and br be right who never of and br is and and and of and able br acting and this of and and and to and so and and br and but of and whole movie its others and through of and whole way and br and and and to and and and movie is whole who and and and are i i of here br of on and and i'm that and so and br acting i'm of and br of and and but and and and it is and in and this be and actors should is and it and and in of enough for and are be acting it and in and but great like one and tv of and and br be and be war be killer to be help isn't years at and and but and be acting there will and in and and for one and be and and to and and back movie and movie of and as with man acting to for it don't have and that it is and and br of and of and of and to of did all and movie much movie with of and br where maybe this of performance and all and be help own be help takes bad well used did play comedy used and any and have and film when there and this man acting it's his that and and and and isn't saw in and film of enough for be acting there will and who and and and there lost is and and like it and who and and in be acting of and and br and and and and movie is and to and and in be actors are and comedy and of time and and br when horror and it had time and and is time and and this as on up else maybe of great to and really than and this and acting he years see is and and and is and and and br and really he and who of and and br and version and to and in really but of problem and whole an seems and first by to is and and i'm that\",\n",
       " \"the as on interesting main of you that with and are of and it and and film and and dialogue to and who and before like totally just were and is guy but of how my of and and you gives it is and and br of of and gives and instead of films people his which and just is and piece story but despite of being like it set but about and and they about line and about too i'm of and and and however of everyone an and to and to would thing which true and some about and human in can what would it line when have story two would me out and about and john br and but about too movies plot and in about and movies plot and and it is and and br so and going that it look makes doesn't of and and br of found and about and things of and she of and however as and show scene show more mother is able and years is and and that's example have story two have he doesn't is day and but of and getting on and some br and was had and and like and sense minutes as you it's in character that\",\n",
       " \"the good his her and and and i i such people great no from he and it's and it's and they is and and i'm of and br of and and and are were too in of and i i like this were times second story and 4 is and no play and first were and i i don't name people have and are is and and to no from then and and have and of and and this and is again and to them sex part i'm were and i i what have than never and who play have out and with is and when story have people and and better to and 4 is and and it's and and and and and br screen in is and work and it's because and and i i was after at and has family think and series saw some this of performance again actors not he's as it of of and and and watching and has of and was least that and most was another they is on and to could is come br and an of and characters was between as by with and and or of much and and and and and it had and to different yet br and i'm its br of you of and br of little he and dead some movie of on and to if family that's in could that done and more three that's and movie that and are to her was with family head friends of performance am either br that i i what poor is and each and completely if main wife they there's true what music director still they of and to have had pretty in character is on and was lead if main is and and what have between of and way that few just so done on to have big and and\",\n",
       " \"the heart instead but is on br as my is and br of and br black to don't black friend is and br become i i is small 10 has as on it that it years and and to and they and and even and even and she and character that this by and to have into at and i i was and in and as and film movie plot great movie and movie was me best and br that new to was rather is each and and and completely i i was story just in can don't live and in as on i i character that i i and that i i stupid want when have two\",\n",
       " \"the and and and could is on just as not of enough for all off to for that and some in at is and very to and and and this for and and br and and worth is and for it and this of and say all look there in another film back for \\x96 all interesting point time and they it's they there's if his of how 10 are be and movie going little music by br though thought and family and and and know is and and role and she film is and along and found to them is and and and of found it and film and were care this of its and and and to little and and and to if and for and story had pretty in long are by br while was least for and or those more and it's out is should is and and and i i not if is and for and better most and that's and it and in and good br for time sound and it's girl it and in and and that some br is time much down and br is playing and and and of you and film and what his and and and and if very to and out and but and movie and it and part in at and who is thought and to of and to and to and perfect seems and to and to and her of and it had and not her he boring or and and and and and and movie of and like and and role and she film to and and and no it all his very movie of and and this and and off was and and and like this out and since br goes my find should so and and in and of do and br of certainly are i i movie takes good br of little it is over and it's out yet br and and it and and and and and and to and production not they of every my was two and least back and this of and back and been good br of because and art for there as and some and what if his and and that these art are make and and movie is when into and couple and and and\",\n",
       " \"the and and it and and scene down movie is and and this and actually and like and this did film is and and like and some in at and and and believe kind are goes get br of my and and some of and and br be and and to and first of and if and in and kind which this of certainly and and must film is and for never and and written and like end when all well film is and and being and if and to and and girl and who and and like worth humor not even and it's and and and it about and and and to of and may would to and it and just for br so and and to about thought and or\",\n",
       " \"the and and br and and and acting movie is and and and this and and keep who and and to fans are so less who and and and and in be women it is and and and and and and seen watched and this acting he recommend throughout best our me think to and and this and all although be too in of thought goes but of how br seen and that isn't one will and but and in down high movie and not all and half of together in and and seem in and of and in of and and and and and john anyone and and this wasn't and and and its and and and and and and as with new would and is and i i have does as it his part in at and and br never and no make and and and and is and but and and and and and and it and who is and and for this and in and is and this be and into all isn't through in and in and and and film and and this and all and is and and in and and to them are in and so show and and and find and and and and are dvd all and show more and is and truly br and br and and movie all and that no that trying in and have of and one can't of and are of and is and and and and and and of and who and and to and how in and them and of and br and he and to were and it is and and who is and and and and like find and maybe and and this of and and us and since more it good very and but comes and old all and she film because and this and and to and it are and this and and i i when and couple it is original br and and for long and or and this be right and and and and things be and this of and that it good and br and is and and film and and movie so and and and like and never and go and is and and is got and and this and in is and and and know be and has and and family find made so and idea to case in of and and and and and and know all and be and things are is person and ever and who of and and and and and and is and and some to and women saw in of and and and br and from and are of and and and i i as it is anything and or and and seem art and and to and and and are and that with and who and but never movies and much title that it not that it other him and and and played and it is and and not be and but acting it and have and 3 not just of feel be and and but and and and they of and to and and and and one and first of and and comedy is quite br great and know from moments or because and mean and and and movie is and like and and and and and and and seem in idea this and and to which and and and and and i i is and of and and and and and be right moments some seen actors seem they make and and and of and in and of and like me and of how you very but made i i when isn't one will br and and in made old with of and br and and this and that other and is and and and and and in saw in and film is and and to way and up sense i i of and are of here and and who and and it and have one is did is and for and of top what have pretty in and man and this is and and about in and and my in here as and was one in through of and in and and film of and\",\n",
       " \"the movie point as it so and certainly br of and day and is quite br and has and this of style and to way seeing few do to and bad an way show and is hard no and and is hard with get and in and no play and who know was and she is and and in another to and we another was look cinema to and of another what was with and and to what was story will and of and and and and woman and this this and and but they there's am actors to and its this of and to these half and didn't and but and later am to am already and and they of and was and point and to after and and what was out me is and john was and has and is and it an written this point and and this and in his and in and and that an was with see and and was nothing and and and an only sense to part and and was me show and and this only and go was and and especially and in and and and are and and was and was with money been its and great old and in of enough was best and and it's and and and even and and rather years this and and but and is and to often and to and its br only my and they and and and to and and and each in also we and and only and br and this 4 of and this of and and br of and they left and and has often and who and he case show me as day and and we and will show is quite and make is and don't from then still and like from and\",\n",
       " \"the and and of mind and has as isn't one will is under br while behind as it do which but and and this enough as interesting which and and had if is again behind and having because are is and having behind it has and and and to more it his by and br and and this as that it out is again and production for which own and and is do human what for it and what have pretty in can good overall and and and she and and is and but and that mean of am and and this and and to and and while behind he very from one look cinema he's and that to and and and movie now and and from cinema and to one and still was wonderful and some though am behind and it and to better of and her then hope man my it's man and are as and year more he still those and and some more\",\n",
       " \"the this of style and plot br want like me and and and and and and me and for and and with his part in and this of too bad between that story but we as you and of and br years when for plot br of great was and supposed they for my people bad yes but of and to and comes right and br and it's people bad and to and but and i i or of and and in and of and and of making br and and in of did minutes to of and and this of and her get it this more that and much is and and this my\",\n",
       " \"the cinema in can as movie we to only and me over fan in people are is and and was just many for and film and and films to as it truly br and watch is and sex bad also good very and or of down not that it of and and for give find to and of you things of and it by br of and something was one life this is you but is both go not it movies men to after one way as is and loved and am some br didn't\",\n",
       " \"the by br only where women and as on show by left film of and and character of sure fact on your and was point use is very dark they is do fact and to takes title was me and man and and and and not as with and and as it and and of and br of along film and along wrong and do love do and even little had do her oh and and and and to is and and as find characters just everyone br and few just and and and of see very 10 has that it has and and br by br of films often and would me good time mind and its br when was takes special as you with camera of dialogue br and as it look her and and it of sure on and to and his and that's but and her this and then hope man my it's sense\",\n",
       " \"the had video and and tell not shows and and of on and and and high and movie so shows kind of see by i i is and and but and since what have pretty in and of and br and and excellent instead and and movie of and cast to cast to cast to love her and and for that action at is and and for if and for that interesting even quality scene and and i i of finally action at entire been think br while because and to of and much that's takes little when little do feel much yes do feel to be and and be and and oh and and and it's guys and if is and are of human br and and and and to be and and and like take one and for best kids and movie end and and her more he and and and i i use\",\n",
       " 'the of and everything was me in can as on with for that mean and and so and to an movies and and my and characters and then and we to and people characters has and not as on with and to and that nothing and are and excellent instead to that nothing and her and are of my and for of and role head to and as with is had and on and and to and film him love who an',\n",
       " \"the as you and performance left they and and and movie lot br of and you and bad than and film of and br going and and to mean and and to and and like and night and watch of you that it is and to and you has when that it just in and and to and in same man too those of boring he and to of their and in at give and to makes this is too for it an movies and of and but of you game is over movies each in and of and and i i as it is and almost but and and go all there and in and in up and and film and and did to and as almost it is and and and but made movie is and shows all and so and and movie all and things in and in up and and movie and and off to and and it other early this as almost all turn in at looks in and and and this and say believe written so and say it waste time money been and and being give films but money and he and this were right and br and just and to and i i and and probably it read and not out movie very watch and and to and and saw in and and and boring or and all there of and br and to and for trying i'm this as almost not all movies it other and to and what his this of should and and movie and being and it and film and this give be and to this be and acting movie is and american of films anyone who and to and and in and having because this of too for wasn't women name people this is too for and we br and and to and and this very into and from he give and but for lot br of and for from one head to looks in same cast i i and show we it by br of where and and many in at and as someone of and really it family funny being this of little it small of and this of and br actually and is and for and is him and to there other me in and become it other world version of and and who and and and and and and and this is time and almost and and to and and high he an world very i i and going and and there had and is their for her plot into at and in and film are and and as it is their has and whole and and and and and to of and br did and show we end his and of you it family and movie that and have first of care br make films until story one is get still and what that way up being and and many just and show we\",\n",
       " \"the was real and such was and as felt br past later idea and some br and didn't else most if each it's couple in and in and that and away that story one will of every what was me dead that didn't didn't and and story one and i i was rather his and br while and and characters just and it's her was two series and to around getting this an of and and and not movie was although some watch doesn't as on more it is and oh and lives to away that story one will of liked br didn't didn't movie that there and br that to and story one will up been and film that to way and and either in and which up and are goes been scene in ever for that it and not of 10 has and lives and it for if is and and br of and characters know audience and it of and and and br of and to her and that big at and movie man and on movie while he characters for he way do are and to have big had stupid and of and do and with and in at her it's that with else do if but of great like just in use do love do and to do dvd fan to who good i'd br and was rather by br any movies more he and no was one so and br wife is had do on to few she but good and to scene have through of hard it and not series itself so and br and to thing one and film and fan i i when was children in why it for what have pretty in character good getting on them and and it itself of and not and only and to then and that who and and\",\n",
       " \"the was then name through some br only too in and and not but as was me in out in and especially for 2 two for who doesn't as from into can is must as thing saw wants go of and and this and and and it do that's to there will bit still plot gets new of and and br seen simply behind first seen picture and it by br of there's and and your maybe are goes that story at do that's what an for with and who of guy with is and in picture and take of and and he and in and and movie seen and picture next movie have into one and who years from and used was one life and and comedy and could up and next been while seen people film of where excellent instead to could she great for until well and make and and in of and is and and and just is and getting finally to up little and been is and screen to as you and is actually and along to was just do characters and just of and\",\n",
       " \"the only and action at is far br is and but when if main and years what have laugh that's i i and and real one will and is and and and but work and next in also during are goes as you it and of and making it so and movie he of and and and for and and she in and are of and and this of and but despite mother was also that as it and is and to and on way and who make and and and to and and and and in and and are so night and about and and was after and and of and show they during gets and and were and show of and and for and as certainly sure scenes and and and in and about and and are of and br and this is and picture and and his makes his i've his done his is very on of and am and it of and br and show and then hope man my\",\n",
       " \"the but is on film is little just as was story and and and this of how and since to i'd that better not as with time much way film and and him love to good and makes understand that with other done in can is money and is and by they for only war to was give and that\",\n",
       " 'the was least as you and those go and are is and but of and full and to that with getting and it and they where and and be probably this not these and tv and this were something american to and different and and we are as have real and as you just of and what that your role and that horror in through are and movie of and little and they is and and that it and and of and it and to of becomes it and and and real through in you doing what all and in and cast this and br be love be being it writing and really find that and in and but made and and it around makes to of and and br of and and of and here it and not as you it out and tell',\n",
       " \"the this enough and and better and and br and with his her and movie it and and i i was one is excellent and this and only and with lot br of how truly full this of want and br and and and off that however of here br and and me will her and and this and of 1 for from me in and of guy to and or and this seen money and and and is and and guy to and and and and his is and really me of truly and br and and with is quite and in of i've been and and i i of she's it for of house and for its great does it of and down and and and are and are and really and and and movie and of thought and fun to big was can about and are and to and and those are for top and with is and and this of and and and to audience and with and and who and and yes br and and was let and was two that with and and can't and in out and i i they by my and other and is am and place br of problem 1 and movie and and\",\n",
       " \"the and and and film of and br and and and and and in of and and and and who of years and and and audience and and be and all it and who called and and history and and and be war and and and and and and and and and and and and and about and and and audience and and effects is and and br and and and and watch be home of and main and and and it in at and and may be and history what think real and them of sense story at and and may of hollywood what an than in and of and and and and and and and and of up and and and audience and story and of quite much his and film is and and br and and really it these family and and those this and really thing totally movies do in we play and from pretty that an but and if his both new and and he and she this of and i i and keep and and who and and and and and we are seen and but and as and and get up and white it and br and really it other of white br so and fact you and who and and those this and really always point children in can give many he and and she movie give one and and no was and only are goes and day and but and br and was with and most that takes that with of and you which and made movie going her no was look and things in character that was and audience and and was them and that three of and you for was me children in can only humor and them br screen music of and worst and and and enough for and and it is and and felt br and for it and and in character they gets of guy who and and and it and rest and and of and he boy and this so and too of and br is and like and be and in and made of and place br and and like he out and and her anything and or and for think and it's and for of and and their after one and it and and them music of tell and once for have well lead and of how didn't since if rest in character if and and if out is and in which two has that and play and we movie as it had do and was after through are an hard has don't do and and it was had after i i going and with given and film is and and wrong it's and who as all and one which will and and of problem you different and if and and more it even and it's and of and and it and music so and this is yes is and yes is scenes no play it and in home who and of where and no and school it and who and take more he and and show as scenes her music of and times music of and br and times and yes it and this and and times and and and school times and and and and throughout takes and our be school and and and of and i i and and and it getting that different tell of totally with and nice person if and each in and really and of getting finally it reason is and this and of love with his part in and especially think and series but woman of there's takes has that of still i i and and it so tell you more had interesting is and and and in that it's what more it was big two br that people and is and then and film as by more he get still many some more\",\n",
       " \"the final had had children in can as on to and but and in also that i'm comes and and and and no that and she this comes and was and that and first of year and i i was with time and and really this i'd way we and and own think on is and which what was pretty in and some br of and and and was plays that an of too i'm not nothing also last or that not and i i of love with time time very not for with has that director it and go bad terrible for and friend and to and this is and and br good yet and best dead and in be and go bad terrible for all to and and she cast bad then can that and it's such that and special so and film and and and and for and and are made true not that with even thought and was and in can as this and not even director bad other role of and for and with of by in and and in of and not cast bad then can that i i was does good characters he is and that movie that and and not as on and and we better no and and and worth she this of and to and and bad then can and and and br made friends and of here to that and we is very and br my in and some for and with of and be and they of and to no and and made he and money was 2 which at enjoy and as that with for and i i of you and have in does dvd to and camera film make and some br put to and and was well perfect she film many just and and and to because many for one and and and half to times not and nothing and to and and of gives they of here br and and have does and part are to and of and in of watched and and out and have and that there so and br and this make and his and stupid have is and 10 and that some but and and if just and is ending film of and and however to and and i i very love just was takes was couldn't of films not of script their with out movies and\",\n",
       " \"the and of white become and of and br of on i i as and br characters he look way but and when is and for and and many and should characters though he and been and and characters it's which good and and characters one still to and their been and of get and to show and and and and and they of and and really that waste and i i this only and as it of sure on your way or and and and and and don't saw from and should is and and in actually and and and like there even and actor br minutes without and all and in and and and and br minutes just and not all and they performance of without something he up just been and it's and characters way but and of and i i of their other and this make and to and in and and of and and this its something and and and we br and and idea and this be and and to and and was rather his is completely br and and and and not of and br and real one case and in and and john br and out or of and come was and br that not they of here that and we film of and and and it of watched side of script and go and and this of and this think on of amazing real at and film of script films br of problem their to of and it's why and real at dead in of by like and and to and and this as too to and and in lost is and i i and there director actually in ever better be and and scene not these and br be and characters all and kids in and is actually and in be beginning for story and any cast to cast this may and off is him together this and to years all and cast this be and and i'm as on not all there and and high this of love and to performance not his of there's has and would different had and film and and br really good and movie would and movies and not was and then two her john would and and title and that it is very and but is and in and of and great it's why and and any that it mind for and works and and this of 5 performance movie got and was mr years all movies into and and this and br minutes love movie be and i i though like just as and from he given and and it's these pretty in through those in and it's why pretty in at and this so and and things in and going and and and like and of and and who and and many this and all real and to and of guy and br already actors new part first and and i i and was then just in and very mean in as and br and characters\",\n",
       " \"the know people was and was children in use as on to was off these was children in at and in use that but never funny and you for with main only and to that and as with is money yet br and as with and is and and for was and this doesn't by br of its and many and life worst to was and get laugh but and and and than more with even and but as you part don't that cinema as with is do you an of too however worst was these and own that and is wanted some br and really it when was and that most much they there's was with and in dark they as and br is on i i was me in and while and for than an show of and br while and and me in and for from than given and movie and her from and she are of and to and and during are and and it's from least of and and and and br and and and however her from and that and and in and and and and and when fan it more in people no and performances i i was me in dark they good and and when and in at and and and and to and to good and has just and and was and only and are is and yes for with best and was plays this and and and movie of and from than this of and with boy and this and and and br and to for of and than movie from than and and and was me in which and no was least for of and but is and but as and with and are is and movie so and film dialogue and or having and film performances by keep this of and was me in and and what of and br and and it for and them was and what was after saw she film is over back in sex is and and scene i i an this an of instead than and of and and and woman of i've love movie death of their and of and and which this is do too from and an will and to of next and not was although and and as 10 that with is played character that and some in at is time time do you to was story his wonderful as 10 and by it first do and and many not these cast was why that with main is very dark was and and many even and when not no as me and human and in that that and will get still episode we and why and and with still\",\n",
       " \"the was had isn't one and is money you or of hollywood br of and are as and most they is and br of you performance left of night with her and who of and for watching his which and star and some nice movie what of and between all than and good and actually and who and is and and br and their of you and and and and and film and and love of boring this as you he her and to and for was and by br of before with part in and some who don't and from turn in at who of guy and entire it for if and just so face br and and was then does like as going and all it reason all there and br of and just and and and not of she's it for an br of and and and and is and br and and for it and and scene was after terrible of and br as you has and actors and not no and can't and should movie do and and and to ever we did such and film as and and more it director actually in at life scene\",\n",
       " \"the and and and i i and and later and later i i totally and and i i this and and and and got and and and and it and in of and doing they and know all and of and br is and actually and and and to and she in of and and and and and and i i example of and br and goes and its and and and and and house and and and and role of style and and and and br and and and and know of humor it to going and and of and and if and that's to and not if other girl and to and and see who and and probably movie of actually and and in and tv good br of and its and and to who of and br is and actually idea this and someone work and is and and film of yet br and and to and very different for real long made an of too in until to and and as it and and day and of yet br and and who and and in and of and film and and which by movie and and movie as of and and and and and that movie and and to and is and and show an br for and to and to is and and and and of acting some br and got and world\",\n",
       " \"the his for get seems and this as on not is quite br and of found between would me an for would well this acting not for with and his wasn't to would although some and no would and as piece like with and good and but be couple together more had real at up and br characters just as and his which for work movie and and and and who of too to was these can't of less to come br of you of watched come it this only and then two have big one is still acting out most have and one as by i i old was can't in and was with and br doesn't funny on not watch and an of and to life of and was and are as by which old was and his for get without story and this of you was wonderful especially in character as on movie that there time very and this of you to it is had very once\",\n",
       " \"the as on it small i i was with and was real why to and most br don't and that with bit of down of and of instead dvd and was let that with is did their title not when way that and or of hollywood with for that with and this so overall and and i i but we that it of and br and and and if just of and and and else heart i i was and story and is and br as of and that and of and i i as on it had is and isn't can by didn't mean but for\",\n",
       " \"the and and and could fact characters how br an of and with time enjoy but as on of see and lot with of and and and fun or and of and and as characters there even and and is and and in is fact on even without even love to even and other is and and and and it is very shows not all it her and to and this as for if and more than is again and for than absolutely in at makes and of and fact must characters to even by and this of night was between for as on with and and to was nothing and and to and that me will and in and and and can as on what have couldn't was these does when have off performance and series of see and br piece like story same as on which and and to and as it in have and and and minutes fact characters as on find and few just and and and\"]"
      ]
     },
     "execution_count": 147,
     "metadata": {},
     "output_type": "execute_result"
    }
   ],
   "source": [
    "word_tot=[]\n",
    "v=range(1,100)\n",
    "for i in v:\n",
    "    word_tot.append(' '.join(index_word.get(w) for w in X_train[i]))\n",
    "word_tot"
   ]
  },
  {
   "cell_type": "code",
   "execution_count": 167,
   "metadata": {},
   "outputs": [
    {
     "data": {
      "text/plain": [
       "0     the thought and thought and do making to is an...\n",
       "1     the as there in at by br of sure many br of an...\n",
       "2     the of and and they and of and went plot actor...\n",
       "3     the sure and br only acting i i was and as on ...\n",
       "4     the and still been that and makes for of and a...\n",
       "5     the and full and to and boring this as and and...\n",
       "6     the of and and of their br of and and and and ...\n",
       "7     the out can't some to and looking when is and ...\n",
       "8     the as on there plot she's and film that for f...\n",
       "9     the and fact entertaining there life back br i...\n",
       "10    the no was and as on was me time along and not...\n",
       "11    the was did and fact and was then laugh what o...\n",
       "12    the especially like after same and and this as...\n",
       "13    the and on they where totally instead he aroun...\n",
       "14    the is and hope br my out and this is again an...\n",
       "15    the and and this of and it of and of and it mo...\n",
       "16    the they of and br of and thought and and and ...\n",
       "17    the was one see me of and br wife as on true n...\n",
       "18    the and he it is and and and has is found and ...\n",
       "19    the and this and movie and as and do on it her...\n",
       "20    the throughout good and i've and just of and a...\n",
       "21    the was and and and for why back just and hope...\n",
       "22    the of and film and and and and and he plot is...\n",
       "23    the of i've and on with way this and film and ...\n",
       "24    the as it is time and and must has is small wh...\n",
       "25    the of year house and br am and of and br and ...\n",
       "26    the bad me in through in so and her bad and ar...\n",
       "27    the and and and this drama br while along wron...\n",
       "28    the was one you're of ending is stars br gets ...\n",
       "29    the was and as they is and and an was well why...\n",
       "                            ...                        \n",
       "69    the is and and and no good went br and beautif...\n",
       "70    the as on interesting main of you that with an...\n",
       "71    the good his her and and and i i such people g...\n",
       "72    the heart instead but is on br as my is and br...\n",
       "73    the and and and could is on just as not of eno...\n",
       "74    the and and it and and scene down movie is and...\n",
       "75    the and and br and and and acting movie is and...\n",
       "76    the movie point as it so and certainly br of a...\n",
       "77    the and and of mind and has as isn't one will ...\n",
       "78    the this of style and plot br want like me and...\n",
       "79    the cinema in can as movie we to only and me o...\n",
       "80    the by br only where women and as on show by l...\n",
       "81    the had video and and tell not shows and and o...\n",
       "82    the of and everything was me in can as on with...\n",
       "83    the as you and performance left they and and a...\n",
       "84    the was real and such was and as felt br past ...\n",
       "85    the was then name through some br only too in ...\n",
       "86    the only and action at is far br is and but wh...\n",
       "87    the but is on film is little just as was story...\n",
       "88    the was least as you and those go and are is a...\n",
       "89    the this enough and and better and and br and ...\n",
       "90    the and and and film of and br and and and and...\n",
       "91    the final had had children in can as on to and...\n",
       "92    the and of white become and of and br of on i ...\n",
       "93    the know people was and was children in use as...\n",
       "94    the was had isn't one and is money you or of h...\n",
       "95    the and and and i i and and later and later i ...\n",
       "96    the his for get seems and this as on not is qu...\n",
       "97    the as on it small i i was with and was real w...\n",
       "98    the and and and could fact characters how br a...\n",
       "Name: sentence, Length: 99, dtype: object"
      ]
     },
     "execution_count": 167,
     "metadata": {},
     "output_type": "execute_result"
    }
   ],
   "source": [
    "X1=pd.DataFrame(word_tot,columns=['sentence'])\n",
    "X1=X1['sentence'][0:99]\n",
    "X1"
   ]
  },
  {
   "cell_type": "code",
   "execution_count": 181,
   "metadata": {},
   "outputs": [
    {
     "data": {
      "text/plain": [
       "0     1\n",
       "1     0\n",
       "2     0\n",
       "3     1\n",
       "4     0\n",
       "5     0\n",
       "6     1\n",
       "7     0\n",
       "8     1\n",
       "9     0\n",
       "10    1\n",
       "11    0\n",
       "12    0\n",
       "13    0\n",
       "14    0\n",
       "15    0\n",
       "16    1\n",
       "17    1\n",
       "18    0\n",
       "19    1\n",
       "20    0\n",
       "21    0\n",
       "22    1\n",
       "23    0\n",
       "24    1\n",
       "25    1\n",
       "26    0\n",
       "27    0\n",
       "28    1\n",
       "29    0\n",
       "     ..\n",
       "69    1\n",
       "70    1\n",
       "71    0\n",
       "72    0\n",
       "73    1\n",
       "74    1\n",
       "75    0\n",
       "76    1\n",
       "77    0\n",
       "78    0\n",
       "79    1\n",
       "80    1\n",
       "81    0\n",
       "82    0\n",
       "83    1\n",
       "84    1\n",
       "85    0\n",
       "86    0\n",
       "87    0\n",
       "88    1\n",
       "89    0\n",
       "90    0\n",
       "91    0\n",
       "92    0\n",
       "93    0\n",
       "94    0\n",
       "95    0\n",
       "96    0\n",
       "97    1\n",
       "98    1\n",
       "Name: label, Length: 99, dtype: int64"
      ]
     },
     "execution_count": 181,
     "metadata": {},
     "output_type": "execute_result"
    }
   ],
   "source": [
    "y1=pd.DataFrame(y_train,columns=['label'])[0:99]\n",
    "y1=y1['label'][0:99]\n",
    "y1"
   ]
  },
  {
   "cell_type": "markdown",
   "metadata": {},
   "source": [
    "### Apprentissage Supervisé:"
   ]
  },
  {
   "cell_type": "code",
   "execution_count": 168,
   "metadata": {},
   "outputs": [
    {
     "name": "stdout",
     "output_type": "stream",
     "text": [
      "Taille du dictionnaire :  367\n"
     ]
    },
    {
     "data": {
      "image/png": "[encoded data removed]",
      "text/plain": [
       "<Figure size 1080x576 with 1 Axes>"
      ]
     },
     "metadata": {
      "needs_background": "light"
     },
     "output_type": "display_data"
    }
   ],
   "source": [
    "count_vect_sw = CountVectorizer(stop_words=stop)\n",
    "most_frequent_words_sw = most_frequent_words(count_vect_sw,X1)"
   ]
  },
  {
   "cell_type": "markdown",
   "metadata": {},
   "source": [
    "### On va utiliser ici Tfidf"
   ]
  },
  {
   "cell_type": "code",
   "execution_count": 169,
   "metadata": {},
   "outputs": [
    {
     "data": {
      "text/plain": [
       "TfidfTransformer(norm='l2', smooth_idf=False, sublinear_tf=False,\n",
       "         use_idf=True)"
      ]
     },
     "execution_count": 169,
     "metadata": {},
     "output_type": "execute_result"
    }
   ],
   "source": [
    "transformer = TfidfTransformer(smooth_idf=False)\n",
    "transformer"
   ]
  },
  {
   "cell_type": "code",
   "execution_count": 170,
   "metadata": {},
   "outputs": [
    {
     "data": {
      "text/plain": [
       "<99x367 sparse matrix of type '<class 'numpy.float64'>'\n",
       "\twith 4082 stored elements in Compressed Sparse Row format>"
      ]
     },
     "execution_count": 170,
     "metadata": {},
     "output_type": "execute_result"
    }
   ],
   "source": [
    "tf_idf_transf = transformer.fit_transform(most_frequent_words_sw['data_counts'])\n",
    "tf_idf_transf"
   ]
  },
  {
   "cell_type": "code",
   "execution_count": 172,
   "metadata": {},
   "outputs": [
    {
     "data": {
      "text/plain": [
       "0.9292929292929293"
      ]
     },
     "execution_count": 172,
     "metadata": {},
     "output_type": "execute_result"
    }
   ],
   "source": [
    "NB_tfidf = GaussianNB()\n",
    "NB_tfidf.fit(X=tf_idf_transf.toarray(),y=y1)\n",
    "accuracy_score(NB_tfidf.predict(tf_idf_transf.toarray()),y1)"
   ]
  },
  {
   "cell_type": "markdown",
   "metadata": {},
   "source": [
    "### on a une precision de 92% sur les 99 premiers critiques sur tf_idf ce qui est bien."
   ]
  },
  {
   "cell_type": "code",
   "execution_count": 179,
   "metadata": {},
   "outputs": [
    {
     "data": {
      "text/plain": [
       "array([1, 1, 0, 1, 0, 0, 1, 0, 1, 0, 1, 0, 0, 0, 0, 0, 1, 1, 0, 1, 0, 0,\n",
       "       1, 0, 1, 1, 0, 0, 1, 0, 0, 1, 1, 1, 0, 0, 1, 1, 0, 0, 1, 0, 0, 0,\n",
       "       1, 1, 1, 0, 1, 0, 0, 0, 0, 1, 0, 0, 1, 0, 1, 1, 0, 1, 0, 1, 1, 1,\n",
       "       1, 1, 1, 1, 1, 0, 0, 1, 1, 0, 1, 0, 0, 1, 1, 0, 0, 1, 1, 0, 0, 0,\n",
       "       1, 0, 0, 1, 0, 0, 1, 1, 0, 1, 1], dtype=int64)"
      ]
     },
     "execution_count": 179,
     "metadata": {},
     "output_type": "execute_result"
    }
   ],
   "source": [
    "X1['prediction_tfidf'] = NB_tfidf.predict(tf_idf_transf.toarray())\n",
    "X1['prediction_tfidf']"
   ]
  },
  {
   "cell_type": "code",
   "execution_count": 184,
   "metadata": {},
   "outputs": [
    {
     "data": {
      "text/plain": [
       "0     False\n",
       "1      True\n",
       "2     False\n",
       "3     False\n",
       "4     False\n",
       "5     False\n",
       "6     False\n",
       "7     False\n",
       "8     False\n",
       "9     False\n",
       "10    False\n",
       "11    False\n",
       "12    False\n",
       "13    False\n",
       "14    False\n",
       "15    False\n",
       "16    False\n",
       "17    False\n",
       "18    False\n",
       "19    False\n",
       "20    False\n",
       "21    False\n",
       "22    False\n",
       "23    False\n",
       "24    False\n",
       "25    False\n",
       "26    False\n",
       "27    False\n",
       "28    False\n",
       "29    False\n",
       "      ...  \n",
       "69    False\n",
       "70    False\n",
       "71    False\n",
       "72    False\n",
       "73    False\n",
       "74    False\n",
       "75    False\n",
       "76    False\n",
       "77    False\n",
       "78    False\n",
       "79    False\n",
       "80    False\n",
       "81    False\n",
       "82    False\n",
       "83    False\n",
       "84    False\n",
       "85    False\n",
       "86    False\n",
       "87    False\n",
       "88    False\n",
       "89    False\n",
       "90    False\n",
       "91     True\n",
       "92    False\n",
       "93    False\n",
       "94     True\n",
       "95     True\n",
       "96    False\n",
       "97    False\n",
       "98    False\n",
       "Name: label, Length: 99, dtype: bool"
      ]
     },
     "execution_count": 184,
     "metadata": {},
     "output_type": "execute_result"
    }
   ],
   "source": [
    "X1['prediction_tfidf'] != y1"
   ]
  },
  {
   "cell_type": "code",
   "execution_count": 188,
   "metadata": {},
   "outputs": [
    {
     "data": {
      "text/plain": [
       "0.8585858585858586"
      ]
     },
     "execution_count": 188,
     "metadata": {},
     "output_type": "execute_result"
    }
   ],
   "source": [
    "NB_logistic = SGDClassifier(loss='hinge', penalty='l2',\\\n",
    "                           alpha=1e-3, random_state=42,\\\n",
    "                           max_iter=5, tol=None)\n",
    "logistic_fit = NB_logistic.fit(X=tf_idf_transf.toarray(),y=y1)\n",
    "accuracy_score(NB_logistic.predict(tf_idf_transf.toarray()),y1)"
   ]
  },
  {
   "cell_type": "markdown",
   "metadata": {},
   "source": [
    "### Par contre avec Naive Bayes Logistic on a une precision de 85% sur les 99 premiers commentaires ce qui est un peu moins comparé à Gaussien Naive Bayes"
   ]
  },
  {
   "cell_type": "code",
   "execution_count": 189,
   "metadata": {},
   "outputs": [
    {
     "name": "stdout",
     "output_type": "stream",
     "text": [
      "Mots avec le coeff le plus négatif :  bad\n",
      "Mots avec le coeff le plus positif :  must\n"
     ]
    }
   ],
   "source": [
    "print(\"Mots avec le coeff le plus négatif : \", most_frequent_words_sw['dictionary'][np.argsort(NB_logistic.coef_)[0][0]])\n",
    "print(\"Mots avec le coeff le plus positif : \", most_frequent_words_sw['dictionary'][np.argsort(NB_logistic.coef_)[0][-1]])"
   ]
  },
  {
   "cell_type": "markdown",
   "metadata": {},
   "source": [
    "### le code précédent nous donne le mot le plus négatif qui est \"bad\" et le plus positif \"must\" sur les 99 premiers commentaires. En faisant avec les 25000 jeux données on pourra l'amelioré peut étre mais c'est quand même une grande quantité de données."
   ]
  },
  {
   "cell_type": "code",
   "execution_count": null,
   "metadata": {},
   "outputs": [],
   "source": []
  }
 ],
 "metadata": {
  "kernelspec": {
   "display_name": "Python 3",
   "language": "python",
   "name": "python3"
  },
  "language_info": {
   "codemirror_mode": {
    "name": "ipython",
    "version": 3
   },
   "file_extension": ".py",
   "mimetype": "text/x-python",
   "name": "python",
   "nbconvert_exporter": "python",
   "pygments_lexer": "ipython3",
   "version": "3.6.8"
  }
 },
 "nbformat": 4,
 "nbformat_minor": 2
}
